{
 "cells": [
  {
   "cell_type": "markdown",
   "id": "4d3db6c7",
   "metadata": {},
   "source": [
    "## Praca Domowa - Wykład nr 3\n",
    "\n",
    "W pracy domowej do wykładu numer trzy, wracamy znów do tworzenia aplikacji internetowej. W związku z tym, kod znów wrzucamy na platformę `Heroku` jak podczas pierwszej pracy domowej, zaś do `CodingRooms` wrzucamy jedynie link do aplikacji.\n",
    "\n",
    "\n",
    "#### Uwaga nr 1\n",
    "Będziemy intensywnie używać cache'u aplikacji. Aby wyczyścić pamięć podręczna aplikacji na platformię `Heroku`, należy na `overview` aplikacji kliknąć `more` a następnie `restart all dynos`.\n",
    "\n",
    "#### Uwaga nr 2\n",
    "Ponownie odnoszę się do cache'u aplikacji. Poniższe zadania będą sprawdzać tworzenie, walidację oraz usuwanie sesji opartej o `cookie` jak i o `token`. Klucze sesji będą przechowywana w pamięci podręcznej aplikacji. Żeby każdy request korzystał z tej samej pamięci podręcznej, należy uruchomić aplikację tylko na jednym workerze. W tym celu należy do procfile dorzucić flagę `--workers 1`, czyli całość będzię wyglądać tak:\n",
    "\n",
    "\n",
    "`web: uvicorn app:app --host=0.0.0.0 --port=${PORT:-5000} --workers 1`\n",
    "\n",
    "#### Uwaga nr 3\n",
    "Kolejne zadania wykorzystują fragmenty kodu utworzone w poprzednich zadaniach. Dlatego proszę o trzymanie wszystkich zadań w jednym projekcie."
   ]
  },
  {
   "cell_type": "markdown",
   "id": "7ae25d48",
   "metadata": {},
   "source": [
    "### Zadanie 3.1\n",
    "\n",
    "W ramach rozgrzewki palców stwórzmy prosty endpoint `/hello` dla metody `GET`. Endpoint ma zwrócić dowolną wiadomość w formacie html, z odpowiednim nagłówkiem `content-type`. Jedynym wymogiem jest to by zwracany HTML zawierał ten fragment:\n",
    "\n",
    "`<h1>Hello! Today date is YYYY-MM-DD</h1>`\n",
    "\n",
    "gdzie zamiast `YYYY-MM-DD` należy wstawić dzisiejszą datę w tymże formacie."
   ]
  },
  {
   "cell_type": "markdown",
   "id": "1ec618a0",
   "metadata": {},
   "source": [
    "### Zadanie 3.2\n",
    "\n",
    "Palce rozgrzane? Super! Dla metody `POST` stwórz dwa endpointy `/login_session` oraz `/login_token`. Oba endpointy służą do autentykacji użytkownika poprzez `basic auth`. Login użytkownika to: `4dm1n`, hasło to: `NotSoSecurePa$$`. W sytuacji błędnej autentykacji endpointy mają zwrócić kod HTTP 401. W przypadku poprawnej autentykacji endpoint `/login_session` ma utworzyć sesję na bazie cookie. Cookie ma zawierać klucz `session_token`, a wartość tego klucza jest kluczem sesji może być dowolna. Endpoint `/login_token` po poprawnej autentykacji ma zwrócić wiadomość w formacie json:\n",
    "\n",
    "`{\"token\": token_value}`\n",
    "\n",
    "gdzie `token_value` jest kluczem sesji i również jego wartość może być dowolna. Po każdym requescie zapisujemy tylko ostatnio utworzony klucz sesji w pamięci podręcznej aplikacji. Oddzielnie dla każdego z endpointów."
   ]
  },
  {
   "cell_type": "markdown",
   "id": "161acf7d",
   "metadata": {},
   "source": [
    "### Zadanie 3.3\n",
    "\n",
    "Skoro mamy już utworzoną sesję, czas na jej użycie. Dla metody `GET`, stwórz endpointy `/welcome_session` oraz `/welcome_token`. Oba endpointy mają wpuścić tylko zalogowanych użytkowników. W sytuacji błędnego klucza sesji lub jego braku, należy zwrócić kod HTTP 401. Pierwszy endpoint otrzyma klucz sesji w utworzonym cookie. Drugi endpoint otrzyma klucz w adresie url, poprzez parametr `token`. Po poprawnej walidacji klucza sesji, endpointy w zależności od otrzymanego (lub też nie) parametru `format` w adresie url, mają zwrócić kod HTTP 200 oraz odpowiedną wiadomość z pasującym nagłówkiem `content-type`:\n",
    "- `format=json` - należy zwrócić następującą wiadomość w formacie json: `{\"message\": \"Welcome!\"}`\n",
    "- `format=html` - należy zwrócić dowolną wiadomość w formacie html, która ma zawierać następujący fragment: `<h1>Welcome!</h1>`\n",
    "- w pozostałych przypadkach należy zwrócić wiadomość `Welcome!` w formacie `plain`\n",
    "\n",
    "Przykładowy request:\n",
    "\n",
    "`/welcome_token?token=verylongvalueXOXOXOXOXO&format=json`"
   ]
  },
  {
   "cell_type": "markdown",
   "id": "2270846b",
   "metadata": {},
   "source": [
    "### Zadanie 3.4\n",
    "\n",
    "Skoro coś utworzono, można też to usunąć (tak jak ten opis pracy domowej za pierwszym podejściem - sic!). Dla metody `DELETE` stwórz najpierw dwa endpointy `/logout_session` oraz `/logout_token`. Tak jak w poprzednim zadaniu, należy wpuścić tylko użytkowników z ważnym kluczem sesji. Błędny klucz sesji lub jego brak oznacza zwrotkę kodu `HTTP 401`. Po poprawnej autentykacji, oba endpointy mają unieważnić klucz sesji poprzez wyczyszczenie pamięci podręcznej aplikacji. Następnie mają przekierować z kodem `HTTP 302` do endpointu `/logged_out`, który również należy utworzyć. \n",
    "\n",
    "Endpoint `/logged_out` jest obsługiwany przez metodę `GET` i w zależności od przekazanego parametru `format` w adresie url, ma zwrócić kod HTTP 200 oraz odpowiednią wiadomość z odpowiadającym nagłówkiem `content-type`:\n",
    "- `format=json` - należy zwrócić następującą wiadomość w formacie json: `{\"message\": \"Logged out!\"}`\n",
    "- `format=html` - należy zwrócić dowolną wiadomość w formacie html, która ma zawierać następujący fragment: `<h1>Logged out!</h1>`\n",
    "- w pozostałych przypadkach należy zwrócić wiadomość `Logged out!` w formacie `plain`\n",
    "\n",
    "Przykładowy request:\n",
    "\n",
    "`/logout_token?token=verylongvalueXOXOXOXOXO&format=html`"
   ]
  },
  {
   "cell_type": "markdown",
   "id": "0611fb46",
   "metadata": {},
   "source": [
    "### Zadanie 3.5\n",
    "\n",
    "Czas na grande finale! Dotychczas trzymaliśmy tylko jeden klucz sesji opartej o cookie i jeden opartej o tokeny, więc teraz to zmienimy. Wprowadź następujące zmiany:\n",
    "- dla endpointów `/login_session` oraz `/login_token` za każdym razem generuj unikalny klucz sesji, oraz w pamięci podręcznej zachowuj tylko ostatnie trzy utworzone klucze, odpowiednio dla sesji opartej o cookie jak i o tokeny\n",
    "- dla endpointów `/welcome_session` oraz `/welcome_token` aby autentykacja obsługiwała tylko klucze sesji trzymane w pamięci podręcznej\n",
    "- dla endpointów `/logout_session` oraz `/logout_token`, aby autentykacja obsługiwała tylko klucze sesji trzymane w pamięci podręcznej, oraz żeby endpointy \"niszyczły\" z pamięci podręcznej tylko aktualnie użytego klucza sesji"
   ]
  },
  {
   "cell_type": "markdown",
   "id": "f4aab7e4",
   "metadata": {},
   "source": [
    "\n",
    "### Udanej zabawy!"
   ]
  },
  {
   "cell_type": "code",
   "execution_count": null,
   "id": "df85315d",
   "metadata": {},
   "outputs": [],
   "source": []
  }
 ],
 "metadata": {
  "kernelspec": {
   "display_name": "Python 3",
   "language": "python",
   "name": "python3"
  },
  "language_info": {
   "codemirror_mode": {
    "name": "ipython",
    "version": 3
   },
   "file_extension": ".py",
   "mimetype": "text/x-python",
   "name": "python",
   "nbconvert_exporter": "python",
   "pygments_lexer": "ipython3",
   "version": "3.8.0"
  }
 },
 "nbformat": 4,
 "nbformat_minor": 5
}
