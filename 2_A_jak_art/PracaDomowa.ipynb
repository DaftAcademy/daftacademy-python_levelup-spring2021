{
 "cells": [
  {
   "cell_type": "markdown",
   "id": "5a2debbd",
   "metadata": {},
   "source": [
    "## Praca Domowa - Wykład nr 2"
   ]
  },
  {
   "cell_type": "markdown",
   "id": "00de02e0",
   "metadata": {},
   "source": [
    "Tym razem w przeciwieństwie do poprzedniej pracy nie robimy aplikacji internetowej tylko piszemy dekoratory. Stąd nie ma potrzeby wrzucania kodu na platformę `Heroku`. Cały kod dekoratora należy wrzucić na platformę `CoodingRooms`. Do każdego zadania są przygotowane dwa pliki: `file.py` oraz `example_test.py`. W pierwszym pliku należy wrzucić kod dekoratora, drugi plik zawiera przykładowy test z wykorzystaniem biblioteki `unittest`. Przed kliknięciem `submit` zaleca się uruchomienie pliku z przykładowym testem."
   ]
  },
  {
   "cell_type": "markdown",
   "id": "0f602452",
   "metadata": {},
   "source": [
    "### Zadanie 2.1"
   ]
  },
  {
   "cell_type": "markdown",
   "id": "1965a9ca",
   "metadata": {},
   "source": [
    "Przywitajmy się na początek! Stwórz dekorator `greetings`, który opakowuje funkcję zwracającą stringa zawierającego imię bądź imiona oraz nazwisko. Dekorator ma sformatować tego stringa tak, że pierwsza litera każdego z imion oraz nazwiska ma być pisana z dużej litery, pozostałe mają być z małej. Ponad to, dekorator ma również dodać `Hello` na początek."
   ]
  },
  {
   "cell_type": "markdown",
   "id": "3bdb63f4",
   "metadata": {},
   "source": [
    "#### Przykład:"
   ]
  },
  {
   "cell_type": "code",
   "execution_count": 1,
   "id": "3f6c3d04",
   "metadata": {},
   "outputs": [],
   "source": [
    "# @greetings\n",
    "# def name_surname():\n",
    "#     return \"jan nowak\"\n",
    "#\n",
    "# assert name_surname() == \"Hello Jan Nowak\""
   ]
  },
  {
   "cell_type": "markdown",
   "id": "100efac6",
   "metadata": {},
   "source": [
    "### Zadanie 2.2"
   ]
  },
  {
   "cell_type": "markdown",
   "id": "fe994afc",
   "metadata": {},
   "source": [
    "`Łapał za kran, a kanarka złapał` - sensu trochę brak w tym zdaniu, ale ma za ta znaną wszystkim właściwość. Otóż jest palindromem. Kolejne zadanie, to stworzenie dekoratora `is_palindrome` opakowującego funkcję zwracającego stringa. Zadaniem tego dekoratora jest doklejenie do wartości zwróconej przez funkcję `- is palindrome` lub `- is not palindrome` w zależności czy to co zwróciła funkcja jest palindromem czy też nie."
   ]
  },
  {
   "cell_type": "markdown",
   "id": "66eb6333",
   "metadata": {},
   "source": [
    "#### Przykład:"
   ]
  },
  {
   "cell_type": "code",
   "execution_count": 3,
   "id": "6600f5cb",
   "metadata": {},
   "outputs": [],
   "source": [
    "# @is_palindrome\n",
    "# def sentence():\n",
    "#     return \"Łapał za kran, a kanarka złapał.\"\n",
    "#\n",
    "# assert sentence() == \"Łapał za kran, a kanarka złapał. - is palindrome\""
   ]
  },
  {
   "cell_type": "markdown",
   "id": "82197dea",
   "metadata": {},
   "source": [
    "### Zadanie 2.3"
   ]
  },
  {
   "cell_type": "markdown",
   "id": "a1f2ecb2",
   "metadata": {},
   "source": [
    "Napisz dekorator `format_output`, który przyjmuje argumenty pozycyjne w postaci stringów oraz opakowuję funkcję zwracającą dict'a. Zadaniem dekoratora jest przeformatowanie dict'a pozostawiając tylko kluczę z argumentów dekoratora i odpowiadające im wartości. Uwaga! Jednakże niektóre klucze w argumentach dekoratora są dosyć nietypowe, gdyż mogą składać się z kilku pojedynczych kluczy. Wtedy takie klucze są połączone podwójną podłogą `__`, wartością nowo utworzonego klucza będą wartośi kluczy składowych połączone pojedynczą spacją. W przypadku podania nieistniejącego klucza lub klucza źle zdefiniowanego, dekorator ma rzucić wyjątkiem `ValueError`."
   ]
  },
  {
   "cell_type": "markdown",
   "id": "0bc0d658",
   "metadata": {},
   "source": [
    "#### Przykład:"
   ]
  },
  {
   "cell_type": "code",
   "execution_count": null,
   "id": "e4415967",
   "metadata": {},
   "outputs": [],
   "source": [
    "# import pytest\n",
    "\n",
    "# @format_output(\"first_name__last_name\", \"city\")\n",
    "# def first_func():\n",
    "#     return {\n",
    "#         \"first_name\": \"Jan\",\n",
    "#         \"last_name\": \"Kowalski\"\n",
    "#         \"city\": \"Warsaw\"\n",
    "#     }\n",
    "\n",
    "# @format_output(\"first_name\", \"age\")\n",
    "# def second_func():\n",
    "#     return {\n",
    "#         \"first_name\": \"Jan\",\n",
    "#         \"last_name\": \"Kowalski\"\n",
    "#         \"city\": \"Warsaw\"\n",
    "#     }\n",
    "\n",
    "# assert first_func() == {\"first_name__last_name\": \"Jan Kowalski\", \"city\": \"Warsaw\"}\n",
    "\n",
    "# with pytest.raises(ValueError):\n",
    "#     second_func()"
   ]
  },
  {
   "cell_type": "markdown",
   "id": "410130e4",
   "metadata": {},
   "source": [
    "### Zadanie 2.4"
   ]
  },
  {
   "cell_type": "markdown",
   "id": "1cb73e9e",
   "metadata": {},
   "source": [
    "Stwórz dwa dekoratory `add_class_method` oraz `add_instance_method` które przyjmują w parametrze klasę. Zadaniem dekoratora będzie opakować funkcję w ten sposób, że dana funkcja stanie się metodą zadanej klasy lub metodą jej instancji. \n",
    "Zwróć szczególną uwagę na przykłady poniżej."
   ]
  },
  {
   "cell_type": "code",
   "execution_count": 6,
   "id": "bc6d88a9",
   "metadata": {},
   "outputs": [],
   "source": [
    "# class A:\n",
    "#     pass\n",
    "\n",
    "# @add_class_method(A)\n",
    "# def foo():\n",
    "#     return \"Hello!\"\n",
    "\n",
    "# @add_instance_method(A)\n",
    "# def bar():\n",
    "#     return \"Hello again!\"\n",
    "\n",
    "# assert A.foo() == \"Hello!\"\n",
    "# assert A().bar() == \"Hello again!\""
   ]
  },
  {
   "cell_type": "code",
   "execution_count": null,
   "id": "fc86af0f",
   "metadata": {},
   "outputs": [],
   "source": []
  }
 ],
 "metadata": {
  "kernelspec": {
   "display_name": "Python 3",
   "language": "python",
   "name": "python3"
  },
  "language_info": {
   "codemirror_mode": {
    "name": "ipython",
    "version": 3
   },
   "file_extension": ".py",
   "mimetype": "text/x-python",
   "name": "python",
   "nbconvert_exporter": "python",
   "pygments_lexer": "ipython3",
   "version": "3.8.0"
  }
 },
 "nbformat": 4,
 "nbformat_minor": 5
}
