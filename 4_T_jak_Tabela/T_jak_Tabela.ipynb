{
 "cells": [
  {
   "cell_type": "markdown",
   "metadata": {
    "slideshow": {
     "slide_type": "slide"
    }
   },
   "source": [
    "![Backdrop](https://github.com/daftcode/daftacademy-python_levelup-spring2021/blob/master/background.png?raw=true)"
   ]
  },
  {
   "cell_type": "markdown",
   "metadata": {
    "slideshow": {
     "slide_type": "slide"
    }
   },
   "source": [
    "![Plan kursu](https://raw.githubusercontent.com/daftcode/daftacademy-python_levelup-spring2021/master/program.png)"
   ]
  },
  {
   "cell_type": "markdown",
   "metadata": {
    "slideshow": {
     "slide_type": "subslide"
    }
   },
   "source": [
    "# T jak Tabela\n",
    "\n",
    "\n",
    "### Wojciech Łuszczyński\n",
    "### Daft Academy Python level up 2021\n",
    "### SQL, SQLite, FastApi + Databases\n",
    "### 05.05.2021"
   ]
  },
  {
   "cell_type": "markdown",
   "metadata": {
    "slideshow": {
     "slide_type": "slide"
    }
   },
   "source": [
    "# 1 Plan działania na dzisiejszy wykład"
   ]
  },
  {
   "cell_type": "markdown",
   "metadata": {
    "slideshow": {
     "slide_type": "fragment"
    }
   },
   "source": [
    "- Wstęp do baz danych\n",
    "- Język SQL\n",
    "- SQLite w FastAPi\n",
    "- Widoki + SQL Queries"
   ]
  },
  {
   "cell_type": "markdown",
   "metadata": {
    "slideshow": {
     "slide_type": "slide"
    }
   },
   "source": [
    "# 2 Bazy danych"
   ]
  },
  {
   "cell_type": "markdown",
   "metadata": {
    "slideshow": {
     "slide_type": "subslide"
    }
   },
   "source": [
    "## 2.1 Baza danych"
   ]
  },
  {
   "cell_type": "markdown",
   "metadata": {
    "slideshow": {
     "slide_type": "fragment"
    }
   },
   "source": [
    "- Zbiór danych zapisanych zgodnie z ustalonymi regułami (Wiki)\n",
    "- Baza danych jest zorganizowanym zbiorem danych , który przechowywany jest zazwyczaj w formie elektronicznej. (Na potrzeby tego kursy, jedynie elektronicznie)"
   ]
  },
  {
   "cell_type": "markdown",
   "metadata": {
    "slideshow": {
     "slide_type": "fragment"
    }
   },
   "source": [
    "## 2.2 Systemy zarządzania bazą danych (DBMS)"
   ]
  },
  {
   "cell_type": "markdown",
   "metadata": {
    "slideshow": {
     "slide_type": "fragment"
    }
   },
   "source": [
    "- Oprogramowanie służące do tworzenia i zarządzania bazami danych\n",
    "- Sposób trzymania danych jest zależny od konkretnego systemu"
   ]
  },
  {
   "cell_type": "markdown",
   "metadata": {
    "slideshow": {
     "slide_type": "subslide"
    }
   },
   "source": [
    "## 2.3 Język SQL (Structured Query Language)"
   ]
  },
  {
   "cell_type": "markdown",
   "metadata": {
    "slideshow": {
     "slide_type": "fragment"
    }
   },
   "source": [
    "- Język służący do interakcji z __relacyjnymi bazami danych__\n",
    "- SQL jest językiem __deklaratywnym__, oznacza to że opisuje efekt a nie proces. np Efektem będzie wynik zapytania napisanego w języku SQL, ale nie samo procesowanie zapytania które już należy do implementacji konkretnego __DBMS__ i jak zostało napisane\n",
    "- (prawie) wszystkie relacyjne __DBMS__ wykorzystują __SQL__ jako podstawowy język zapytań"
   ]
  },
  {
   "cell_type": "markdown",
   "metadata": {
    "slideshow": {
     "slide_type": "fragment"
    }
   },
   "source": [
    "Przykłady relacyjnych systemów zarządzania bazą danych\n",
    "- PostgreSQL (open source)\n",
    "- MySQL (open source)\n",
    "- SQLite (open source)\n",
    "- Oracle\n",
    "- Microsoft SQL Server\n",
    "- IBM DB2\n",
    "- Microsoft Access"
   ]
  },
  {
   "cell_type": "markdown",
   "metadata": {
    "slideshow": {
     "slide_type": "subslide"
    }
   },
   "source": [
    "## 2.4 SQLite"
   ]
  },
  {
   "cell_type": "markdown",
   "metadata": {
    "slideshow": {
     "slide_type": "fragment"
    }
   },
   "source": [
    "SQLite jest najprostszą relacyjną bazą danych, nie ma wielu zaawansowanych funkcjonalności ale jest w pełni kompatybilna z językiem SQL"
   ]
  },
  {
   "cell_type": "markdown",
   "metadata": {
    "slideshow": {
     "slide_type": "fragment"
    }
   },
   "source": [
    "- Działa na każdym systemie operacyjnym, nie ma prawie żadnych zależności systemowych\n",
    "- Nie wymaga uruchomianego serwera bazy danych\n",
    "- Nie wymaga żadnej dodatkowej konfiguracji\n",
    "- Najczęściej używana baza danych na świecie https://www.sqlite.org/mostdeployed.html\n",
    "- Cała baza danych zapisana jest w jednym pliku o konkretnym formacie (cross-platform)\n",
    "- Obsługuje transakcje"
   ]
  },
  {
   "cell_type": "markdown",
   "metadata": {
    "slideshow": {
     "slide_type": "subslide"
    }
   },
   "source": [
    "### 2.4.1 Diagram SQLowej baza danych, na przykładzie Northwind DB"
   ]
  },
  {
   "cell_type": "markdown",
   "metadata": {
    "slideshow": {
     "slide_type": "slide"
    }
   },
   "source": [
    "![Diagram](https://github.com/daftcode/daftacademy-python_levelup-spring2021/raw/master/4_T_jak_Tabela/diagram.png?raw=true)"
   ]
  },
  {
   "cell_type": "markdown",
   "metadata": {
    "slideshow": {
     "slide_type": "slide"
    }
   },
   "source": [
    "# 3 Struktura relacyjnej bazy danych"
   ]
  },
  {
   "cell_type": "markdown",
   "metadata": {
    "slideshow": {
     "slide_type": "subslide"
    }
   },
   "source": [
    "## 3.1 Tabela"
   ]
  },
  {
   "cell_type": "markdown",
   "metadata": {
    "slideshow": {
     "slide_type": "fragment"
    }
   },
   "source": [
    "- W bazie danych tabela jest obiektem zawierającym dane\n",
    "- Tabela składa się z wierszy i kolumn\n",
    "- Każda kolumna reprezentuje jakąś właściwość\n",
    "- Każdy wiersz reprezentuje pojedynczy rekord"
   ]
  },
  {
   "cell_type": "markdown",
   "metadata": {
    "slideshow": {
     "slide_type": "subslide"
    }
   },
   "source": [
    "## 3.2 Kolumna"
   ]
  },
  {
   "cell_type": "markdown",
   "metadata": {
    "slideshow": {
     "slide_type": "fragment"
    }
   },
   "source": [
    "- reprezentuje właściwość rekordu (np. imię, nazwisko, identyfikator itp.)\n",
    "- Ma określony typ, w SQLite to: \n",
    "    - NULL - Specjalny znacznik, który mówi o tym, że dana wartość nie jest ustawiona\n",
    "    - INTEGER - Liczba całkowita\n",
    "    - REAL - Liczba zmiennoprzecinkowa\n",
    "    - TEXT - Tekst o nieograniczonej długości\n",
    "    - BLOB - Obiekt binarny, może przechowywać dowolną wartość, teoretycznie nieograniczona wielkość\n",
    "- https://www.sqlitetutorial.net/sqlite-data-types/"
   ]
  },
  {
   "cell_type": "markdown",
   "metadata": {
    "slideshow": {
     "slide_type": "subslide"
    }
   },
   "source": [
    "## 3.3 Constraint"
   ]
  },
  {
   "cell_type": "markdown",
   "metadata": {
    "slideshow": {
     "slide_type": "fragment"
    }
   },
   "source": [
    "- Dodatkowa cecha kolumny\n",
    "- SQLite udostępnia następujące `Constraint`y\n",
    "    - NOT NULL Constraint − Zapewnia brak wartości NULL w kolumnie.\n",
    "    - DEFAULT Constraint − Pozwala na podanie wartości domyślnej.\n",
    "    - UNIQUE Constraint − Zapewnia unikalność wpisu w kolumnie.\n",
    "    - PRIMARY Key − Pozwala na unikalną identyfikacje wiersza w tabeli.\n",
    "    - CHECK Constraint − Zapewnia spełnienie warunku przez wartość w komórce."
   ]
  },
  {
   "cell_type": "markdown",
   "metadata": {
    "slideshow": {
     "slide_type": "subslide"
    }
   },
   "source": [
    "### 3.3.1 PK - Primary Key"
   ]
  },
  {
   "cell_type": "markdown",
   "metadata": {
    "slideshow": {
     "slide_type": "fragment"
    }
   },
   "source": [
    "- Klucz główny dla tabeli\n",
    "- Unikalny\n",
    "- Posiada index\n",
    "- Maksymalnie jeden"
   ]
  },
  {
   "cell_type": "markdown",
   "metadata": {
    "slideshow": {
     "slide_type": "fragment"
    }
   },
   "source": [
    "### 3.3.2 FK - Foreign Key"
   ]
  },
  {
   "cell_type": "markdown",
   "metadata": {
    "slideshow": {
     "slide_type": "fragment"
    }
   },
   "source": [
    "- Klucz obcy\n",
    "- Wartość z pola z rekordu z innej tabeli, do którego \"linkujemy\"\n",
    "- Musi być jednoznaczne\n",
    "- Bardzo często PK innej tabeli"
   ]
  },
  {
   "cell_type": "markdown",
   "metadata": {
    "slideshow": {
     "slide_type": "subslide"
    }
   },
   "source": [
    "## 3.4 Index"
   ]
  },
  {
   "cell_type": "markdown",
   "metadata": {
    "slideshow": {
     "slide_type": "fragment"
    }
   },
   "source": [
    "- Struktura pozwalająca na szybsze wyszukiwanie wierszy w tabeli\n",
    "- W przeciwieństwie do wiersza tabeli z kluczem głównym odzwierciedla wartość kolumny (lub kolumn) na klucz główny wiersza\n",
    "- Zakłada się go na wybranej kolumnie (lub kilku)\n",
    "- w SQLite zaimplementowane na B-drzewach (Balanced Tree)\n",
    "    - https://pl.wikipedia.org/wiki/B-drzewo\n",
    "    - http://www.sqlitetutorial.net/sqlite-index/\n",
    "- `index` oraz `constraint` to inne mechanizmy w relacyjnych bazach danych choć \"pod maską\" mogą wydawać się identyczne"
   ]
  },
  {
   "cell_type": "markdown",
   "metadata": {
    "slideshow": {
     "slide_type": "subslide"
    }
   },
   "source": [
    "## 3.4 Relacje pomiędzy tabelami"
   ]
  },
  {
   "cell_type": "markdown",
   "metadata": {
    "slideshow": {
     "slide_type": "fragment"
    }
   },
   "source": [
    "### 3.4.1 One-One (1-1)"
   ]
  },
  {
   "cell_type": "markdown",
   "metadata": {
    "slideshow": {
     "slide_type": "fragment"
    }
   },
   "source": [
    "- Występuje kiedy jeden tylko wiersza Tabeli A może być referencją w jednym wierszu Tabeli B\n",
    "- Stworzenie takiej relacji wymaga sprawdzenia unikalności referencji"
   ]
  },
  {
   "cell_type": "markdown",
   "metadata": {
    "slideshow": {
     "slide_type": "fragment"
    }
   },
   "source": [
    "### 3.4.2 One-Many (1-M)"
   ]
  },
  {
   "cell_type": "markdown",
   "metadata": {
    "slideshow": {
     "slide_type": "fragment"
    }
   },
   "source": [
    "- Występuje kiedy każdy z wierszy Tabeli B może posiadać referencje do jednego z wierszy z Tabeli A\n",
    "- Nie potrzeba sprawdzać już unikalności takiej referencji jak w przypadku 1-1"
   ]
  },
  {
   "cell_type": "markdown",
   "metadata": {
    "slideshow": {
     "slide_type": "fragment"
    }
   },
   "source": [
    "### 3.4.3 Many-Many (M-M)"
   ]
  },
  {
   "cell_type": "markdown",
   "metadata": {
    "slideshow": {
     "slide_type": "fragment"
    }
   },
   "source": [
    "- Czasami potrzeba stworzyć referencje w której wiele przedmiotów jest przypisanych do innych.\n",
    "- Technicznie potrzeba stworzyć trzecią tabelę pośredniczącą w takim przypisaniu.\n",
    "- Każdy wiersz takiej tabeli pomocniczej zawiera parę kluczy publicznych obu tabel A i B.\n",
    "- Dodatkowo takie przypisanie umożliwia przechowywanie dodatkowych opcji w tabeli pomocniczej. Np datę przypisania, czy inne metadane. Jest to rozwiązanie 'Customowe' i zależy tylko od programisty "
   ]
  },
  {
   "cell_type": "markdown",
   "metadata": {
    "slideshow": {
     "slide_type": "slide"
    }
   },
   "source": [
    "# 4 sqlite3 w Pythonie"
   ]
  },
  {
   "cell_type": "markdown",
   "metadata": {
    "slideshow": {
     "slide_type": "subslide"
    }
   },
   "source": [
    "## 4.1 Ustanowienie połączenie z bazą danych"
   ]
  },
  {
   "cell_type": "markdown",
   "metadata": {
    "slideshow": {
     "slide_type": "fragment"
    }
   },
   "source": [
    "```python\n",
    "import sqlite3\n",
    "conn = sqlite3.connect('/path/to/database.db')\n",
    "conn.close()\n",
    "```"
   ]
  },
  {
   "cell_type": "markdown",
   "metadata": {
    "slideshow": {
     "slide_type": "fragment"
    }
   },
   "source": [
    "### 4.1.1 Dokumentacja"
   ]
  },
  {
   "cell_type": "markdown",
   "metadata": {},
   "source": [
    "1. Oficjalna odkumentacja modułu sqlite3 w Python3 https://docs.python.org/3/library/sqlite3.html"
   ]
  },
  {
   "cell_type": "markdown",
   "metadata": {
    "slideshow": {
     "slide_type": "subslide"
    }
   },
   "source": [
    "## 4.1 Northwind"
   ]
  },
  {
   "cell_type": "markdown",
   "metadata": {
    "slideshow": {
     "slide_type": "fragment"
    }
   },
   "source": [
    "Przykładowa baza danych stworzona przez Microsoft\n",
    "- https://github.com/microsoft/sql-server-samples/tree/master/samples/databases/northwind-pubs"
   ]
  },
  {
   "cell_type": "markdown",
   "metadata": {
    "slideshow": {
     "slide_type": "fragment"
    }
   },
   "source": [
    "### 4.1.1 Pobieramy Northwind"
   ]
  },
  {
   "cell_type": "markdown",
   "metadata": {
    "slideshow": {
     "slide_type": "fragment"
    }
   },
   "source": [
    "- Bazę można pobrać pod naszego kursu w formacie SQLite: \n",
    "    - https://github.com/daftcode/daftacademy-python_levelup-spring2021/blob/a4dafd6e37c7902b8d28fd45f9dee9db941a9ebf/4_T_jak_Tabela/Northwind.zip\n",
    "- Następnie trzeba ją jedynie wypakować"
   ]
  },
  {
   "cell_type": "markdown",
   "metadata": {
    "slideshow": {
     "slide_type": "subslide"
    }
   },
   "source": [
    "### 4.1.2 Jak \"dobrać się do danych\""
   ]
  },
  {
   "cell_type": "code",
   "execution_count": 1,
   "metadata": {
    "slideshow": {
     "slide_type": "fragment"
    }
   },
   "outputs": [
    {
     "name": "stdout",
     "output_type": "stream",
     "text": [
      "77\n",
      "(\"Chef Anton's Gumbo Mix\",)\n"
     ]
    }
   ],
   "source": [
    "import sqlite3\n",
    "\n",
    "with sqlite3.connect(\"northwind.db\") as connection:\n",
    "    connection.text_factory = lambda b: b.decode(errors=\"ignore\")\n",
    "    cursor = connection.cursor()\n",
    "    products = cursor.execute(\"SELECT ProductName FROM Products\").fetchall()\n",
    "    print(len(products))\n",
    "    print(products[4])"
   ]
  },
  {
   "cell_type": "markdown",
   "metadata": {
    "slideshow": {
     "slide_type": "fragment"
    }
   },
   "source": [
    "- Bazę danych możemy otwierać tak jak pliki korzystając z bloku `with`\n",
    "- Korzystając z `with` po zamknięciu programu mamy gwarancję zamknięcia bazy danych\n",
    "- Tworzymy obiekt __Cursor__, który umożliwia nam wykonywanie poleceń na bazie\n",
    "- Możemy na nim wykonywać operacje za pomocą metod \n",
    "    - __execute__ (jedna operacja)\n",
    "    - __executemany__ (jeden rodzaj operacji z wieloma różnymi parametrami)\n",
    "    - __executescript__ (ciąg operacji)"
   ]
  },
  {
   "cell_type": "markdown",
   "metadata": {
    "slideshow": {
     "slide_type": "subslide"
    }
   },
   "source": [
    "### 4.1.3 Dokumentacja"
   ]
  },
  {
   "cell_type": "markdown",
   "metadata": {},
   "source": [
    "- https://docs.python.org/3/library/sqlite3.html#cursor-objects"
   ]
  },
  {
   "cell_type": "markdown",
   "metadata": {
    "slideshow": {
     "slide_type": "fragment"
    }
   },
   "source": [
    "### 4.1.4 Przydatne programy do edycji i przeglądania bazy SQLite"
   ]
  },
  {
   "cell_type": "markdown",
   "metadata": {},
   "source": [
    "- http://sqlitebrowser.org/ <- bardzo przyjemny programik do obsługi bazy SQLite\n",
    "- https://dbeaver.io/ <- Rozbudowany program do zarządzania wieloma bazami danych"
   ]
  },
  {
   "cell_type": "markdown",
   "metadata": {
    "slideshow": {
     "slide_type": "subslide"
    }
   },
   "source": [
    "## 4.2 Dostęp do bazy danych w aplikacji FastAPI"
   ]
  },
  {
   "cell_type": "markdown",
   "metadata": {
    "slideshow": {
     "slide_type": "fragment"
    }
   },
   "source": [
    "```python\n",
    "import sqlite3\n",
    "from fastapi import FastAPI\n",
    "\n",
    "app = FastAPI()\n",
    "\n",
    "\n",
    "@app.on_event(\"startup\")\n",
    "async def startup():\n",
    "    app.db_connection = sqlite3.connect(\"northwind.db\")\n",
    "    app.db_connection.text_factory = lambda b: b.decode(errors=\"ignore\")  # northwind specific \n",
    "\n",
    "\n",
    "@app.on_event(\"shutdown\")\n",
    "async def shutdown():\n",
    "    app.db_connection.close()\n",
    "\n",
    "\n",
    "@app.get(\"/\")\n",
    "async def root():\n",
    "    cursor = app.db_connection.cursor()\n",
    "    ....\n",
    "    return ...\n",
    "```"
   ]
  },
  {
   "cell_type": "markdown",
   "metadata": {
    "slideshow": {
     "slide_type": "fragment"
    }
   },
   "source": [
    "- Połączenie do bazy danych tworzymy i trzymamy kontekście aplikacji, zamykamy połączenie przy niszczeniu kontekstu wykorzystując wewnętrzny mechanizm sygnałów FastAPI.\n",
    "- Kluczowe tutaj jest stworzenie jednego połączenia do bazy danych oraz zamknięcie go na koniec działania serwera.\n",
    "- Mechanizm sygnałów FastAPI nie jest `thread safe` co powoduje że nie zagwarantuje nam otwarcia połączenia do bazy w jednym wątku i dostępu w tym samym.\n",
    "    - Obejściem tego problemu jest przejście na asynchroniczne endpointy FastAPI. Wszystkie zapytania `asyncio` są obsługiwane w jednym wątku\n",
    "    - Ciało funkcji nie musi korzystać z asynchronicznych metod i funkcji a co za tym idzie pisze się te funkcje identycznie jak asynchroniczne"
   ]
  },
  {
   "cell_type": "markdown",
   "metadata": {
    "slideshow": {
     "slide_type": "subslide"
    }
   },
   "source": [
    "## 4.3 Asynchroniczny Dostęp do bazy danych w aplikacji FastAPI"
   ]
  },
  {
   "cell_type": "markdown",
   "metadata": {
    "slideshow": {
     "slide_type": "fragment"
    }
   },
   "source": [
    "```python\n",
    "import aiosqlite\n",
    "from fastapi import FastAPI\n",
    "\n",
    "app = FastAPI()\n",
    "\n",
    "\n",
    "@app.on_event(\"startup\")\n",
    "async def startup():\n",
    "    app.db_connection = await aiosqlite.connect(\"northwind.db\")\n",
    "    app.db_connection.text_factory = lambda b: b.decode(errors=\"ignore\")  # northwind specific\n",
    "\n",
    "\n",
    "@app.on_event(\"shutdown\")\n",
    "async def shutdown():\n",
    "    await app.db_connection.close()\n",
    "\n",
    "\n",
    "@app.get(\"/data\")\n",
    "async def root():\n",
    "    cursor = await app.db_connection.execute(\"....\")\n",
    "    data = await cursor.fetchall()\n",
    "    return {\"data\": data}\n",
    "```"
   ]
  },
  {
   "cell_type": "markdown",
   "metadata": {
    "slideshow": {
     "slide_type": "fragment"
    }
   },
   "source": [
    "- Istniej gotowa biblioteka asynchroniczna dla SQLite `aiosqlite`\n",
    "- `aiosqlite` ma identyczne api jak biblioteka standardowa `sqlite3`\n",
    "- Kluczowa różnica jest taka że program w tym momencie nie czeka na odpowiedź z dysku twardego.\n",
    "- Połączenie z bazą danych jest chyba najlepszym przykładem wykorzystania asyncio w praktyce"
   ]
  },
  {
   "cell_type": "markdown",
   "metadata": {
    "slideshow": {
     "slide_type": "subslide"
    }
   },
   "source": [
    "## 4.3 Dlaczego gołe `SQL`-ki?"
   ]
  },
  {
   "cell_type": "markdown",
   "metadata": {
    "slideshow": {
     "slide_type": "fragment"
    }
   },
   "source": [
    "- Znajomość SQL jest kluczowa w pracy programisty\n",
    "- ORM nie zawsze jest w stanie obsłużyć skomplikowane przypadku\n",
    "- Dobrze jest wiedzieć co się dzieje \"pod spodem\" ORMa\n",
    "- Znajomość SQLa ułatwia debugowanie problemów związanych z bazami danych\n",
    "- Dla szkolenia z debugowania aplikacji bazodanowych\n",
    "- W realnym świecie logowanie do bazy danych i wykonywanie poleceń nie powinno mieć miejsca, niemniej jest to codzienna praktyka, chociażby dlatego należy znać podstawy SQLa i dlaczego niektóre zapytania są niebezpieczne."
   ]
  },
  {
   "cell_type": "markdown",
   "metadata": {
    "slideshow": {
     "slide_type": "slide"
    }
   },
   "source": [
    "# 5 Język SQL"
   ]
  },
  {
   "cell_type": "markdown",
   "metadata": {
    "slideshow": {
     "slide_type": "subslide"
    }
   },
   "source": [
    "## 5.1 SELECT"
   ]
  },
  {
   "cell_type": "markdown",
   "metadata": {
    "slideshow": {
     "slide_type": "fragment"
    }
   },
   "source": [
    "Pobieranie konkretnych pól z wybranej tabeli:\n",
    "```sql\n",
    "SELECT {lista_pól} FROM {nazwa_tabeli};\n",
    "```"
   ]
  },
  {
   "cell_type": "markdown",
   "metadata": {
    "slideshow": {
     "slide_type": "fragment"
    }
   },
   "source": [
    "np.\n",
    "\n",
    "```sql\n",
    "SELECT ProductName, UnitPrice FROM Products;\n",
    "```"
   ]
  },
  {
   "cell_type": "markdown",
   "metadata": {
    "slideshow": {
     "slide_type": "fragment"
    }
   },
   "source": [
    "Pobieranie wszystkich pól wiesza (kolumn) z wybranej tabeli:\n",
    "```sql\n",
    "SELECT * FROM {nazwa_tabeli};\n",
    "```"
   ]
  },
  {
   "cell_type": "markdown",
   "metadata": {
    "slideshow": {
     "slide_type": "fragment"
    }
   },
   "source": [
    "np.\n",
    "\n",
    "```sql\n",
    "SELECT * FROM Products\n",
    "```"
   ]
  },
  {
   "cell_type": "markdown",
   "metadata": {
    "slideshow": {
     "slide_type": "subslide"
    }
   },
   "source": [
    "### 5.1.1 Przykład SELECT"
   ]
  },
  {
   "cell_type": "markdown",
   "metadata": {
    "slideshow": {
     "slide_type": "fragment"
    }
   },
   "source": [
    "- Stworzyć widok listy nazw produktów `/products`.\n",
    "- Endpoint powinien zwrócić listę nazw w postaci\n",
    "\n",
    "```json\n",
    "{\n",
    "    \"products\": [\"str\", \"str\", \"...\"],\n",
    "}\n",
    "```"
   ]
  },
  {
   "cell_type": "markdown",
   "metadata": {
    "slideshow": {
     "slide_type": "subslide"
    }
   },
   "source": [
    "Wszystkie przykłady są zdeployowane tu: https://da-plu-2021-l4.herokuapp.com/"
   ]
  },
  {
   "cell_type": "markdown",
   "metadata": {
    "slideshow": {
     "slide_type": "fragment"
    }
   },
   "source": [
    "```python\n",
    "@app.get(\"/products\")\n",
    "async def products():\n",
    "    cursor = app.db_connection.cursor()\n",
    "    products = cursor.execute(\"SELECT ProductName FROM Products\").fetchall()\n",
    "    return {\n",
    "        \"products\": products,\n",
    "    }\n",
    "```"
   ]
  },
  {
   "cell_type": "markdown",
   "metadata": {
    "slideshow": {
     "slide_type": "subslide"
    }
   },
   "source": [
    "### 5.1.2 Pobieranie wyników zapytań"
   ]
  },
  {
   "cell_type": "markdown",
   "metadata": {
    "slideshow": {
     "slide_type": "fragment"
    }
   },
   "source": [
    "- __fetchall__ - zwraca listę wyników \n",
    "- __fetchone__ - zwraca jeden (następny) wynik, jeżeli nie znalazł wyniku zapytania zwraca `None`\n",
    "- __fetchmany__(size=cursor.arraysize) - zwraca listę max `size` wyników, w przypadku braku wyników zwraca pustą listę\n",
    "    - domyślnie `cursor.arraysize=1`"
   ]
  },
  {
   "cell_type": "markdown",
   "metadata": {
    "slideshow": {
     "slide_type": "subslide"
    }
   },
   "source": [
    "### 5.1.3 Typy w wyniku"
   ]
  },
  {
   "cell_type": "markdown",
   "metadata": {
    "slideshow": {
     "slide_type": "fragment"
    }
   },
   "source": [
    "- Domyślnie wiersz przedstawiony jest jako `tuple` wartości poszczególnych kolumn w kolejności o jaką pytamy np:\n",
    "    - zapytanie `SELECT CompanyName, Phone FROM Shippers;`\n",
    "    - zwróci listę tupli `[(CompanyName, Phone), ...]`"
   ]
  },
  {
   "cell_type": "markdown",
   "metadata": {
    "slideshow": {
     "slide_type": "fragment"
    }
   },
   "source": [
    "- Kolumny \"zachowują\" swój typ z bazy danych zgodnie z relacją: \n",
    "    - NULL -> None\n",
    "    - INTEGER -> int\n",
    "    - REAL -> float\n",
    "    - TEXT -> str (domyślnie, zależy od `text_factory`)\n",
    "    - BLOB -> bytes\n",
    "    - https://docs.python.org/3/library/sqlite3.html#sqlite-and-python-types"
   ]
  },
  {
   "cell_type": "markdown",
   "metadata": {
    "slideshow": {
     "slide_type": "subslide"
    }
   },
   "source": [
    "- Wygodniejszy sposób przeglądania wyników możliwy jest wykorzystując nazwy kolumn w obiekcie słownika. Osiągnąć to można ustawiając na obiekcie połączenia do bazy danych lub kursora `row_factory`\n",
    "    - ```python\n",
    "db.row_factory = sqlite3.Row\n",
    "```\n",
    "        - Dzięki temu dostęp do pól następuje po nazwie `shipper[„CompanyName”]` zamiast `shipper[0]`"
   ]
  },
  {
   "cell_type": "markdown",
   "metadata": {
    "slideshow": {
     "slide_type": "fragment"
    }
   },
   "source": [
    "- Możliwe jest definiowanie własnych `row_factory`\n",
    "    - np:\n",
    "        ```python\n",
    "        db.row_factory = lambda cursor, x: x[0]\n",
    "        ```\n",
    "        - `row_factory` to funkcja przyjmująca 2 wartości:\n",
    "            - obiekt kursora\n",
    "            - konkretny wiersz z bazy danych\n",
    "    \n",
    "    - dokumentacja: https://docs.python.org/3/library/sqlite3.html#sqlite3.Connection.row_factory\n",
    "    "
   ]
  },
  {
   "cell_type": "markdown",
   "metadata": {
    "slideshow": {
     "slide_type": "subslide"
    }
   },
   "source": [
    "### 5.1.4 Skrót kursora"
   ]
  },
  {
   "cell_type": "markdown",
   "metadata": {
    "slideshow": {
     "slide_type": "fragment"
    }
   },
   "source": [
    "- Możliwością jest skorzystanie ze \"skrótu\", można uruchomić polecenie `execute` od razu na obiekcie połączenia `Connection`, bez tworzenia wprost obiektu `Cursor`\n",
    "- Takie zapytanie tworzy obiekt `cursor` niejawnie"
   ]
  },
  {
   "cell_type": "markdown",
   "metadata": {
    "slideshow": {
     "slide_type": "fragment"
    }
   },
   "source": [
    "```python\n",
    "@app.get(\"/products\")\n",
    "async def products():\n",
    "    products = app.db_connection.execute(\"SELECT ProductName FROM Products\").fetchall()\n",
    "    return {\n",
    "        \"products\": products,\n",
    "        \"products_counter\": len(products)\n",
    "    }\n",
    "```"
   ]
  },
  {
   "cell_type": "markdown",
   "metadata": {
    "slideshow": {
     "slide_type": "subslide"
    }
   },
   "source": [
    "## 5.2 SELECT ... WHERE"
   ]
  },
  {
   "cell_type": "markdown",
   "metadata": {
    "slideshow": {
     "slide_type": "fragment"
    }
   },
   "source": [
    "Filtrowanie :\n",
    "```sql\n",
    "SELECT {lista_pól} FROM {nazwa_tabeli} WHERE {warunek};\n",
    "```"
   ]
  },
  {
   "cell_type": "markdown",
   "metadata": {
    "slideshow": {
     "slide_type": "fragment"
    }
   },
   "source": [
    "np.\n",
    "\n",
    "```sql\n",
    "SELECT CompanyName, Address FROM Suppliers WHERE SupplierID = 1;\n",
    "```"
   ]
  },
  {
   "cell_type": "markdown",
   "metadata": {
    "slideshow": {
     "slide_type": "fragment"
    }
   },
   "source": [
    "Więcej przykładów: http://www.sqlitetutorial.net/sqlite-where/"
   ]
  },
  {
   "cell_type": "markdown",
   "metadata": {
    "slideshow": {
     "slide_type": "subslide"
    }
   },
   "source": [
    "### 5.2.1 Przykład 2"
   ]
  },
  {
   "cell_type": "markdown",
   "metadata": {
    "slideshow": {
     "slide_type": "fragment"
    }
   },
   "source": [
    "- Stworzyć widok pojedynczego dostawcy o url `/suppliers/<supplier_id>`.\n",
    "- Endpoint powinien zwrócić pola `compamny_name` oraz `address`\n",
    "\n",
    "```json\n",
    "{\n",
    "    \"CompanyName\": \"name\", \n",
    "    \"Address\": \"address\"\n",
    "}\n",
    "```"
   ]
  },
  {
   "cell_type": "markdown",
   "metadata": {
    "slideshow": {
     "slide_type": "fragment"
    }
   },
   "source": [
    "```python\n",
    "@app.get(\"/suppliers/{supplier_id}\")\n",
    "async def single_supplier(supplier_id: int):\n",
    "    app.db_connection.row_factory = sqlite3.Row\n",
    "    data = app.db_connection.execute(\n",
    "        f\"SELECT CompanyName, Address FROM Suppliers WHERE SupplierID = {supplier_id}\").fetchone()\n",
    "\n",
    "    return data\n",
    "```"
   ]
  },
  {
   "cell_type": "markdown",
   "metadata": {
    "slideshow": {
     "slide_type": "subslide"
    }
   },
   "source": [
    "### 5.2.2 Wstawianie zmiennych do zapytania"
   ]
  },
  {
   "cell_type": "markdown",
   "metadata": {
    "slideshow": {
     "slide_type": "fragment"
    }
   },
   "source": [
    "```python\n",
    "@app.get(\"/suppliers/{supplier_id}\")\n",
    "async def single_supplier(supplier_id: int):\n",
    "    app.db_connection.row_factory = sqlite3.Row\n",
    "    data = app.db_connection.execute(\n",
    "        \"SELECT CompanyName, Address FROM Suppliers WHERE SupplierID = ?\", (supplier_id, )).fetchone()\n",
    "\n",
    "    return data\n",
    "```"
   ]
  },
  {
   "cell_type": "markdown",
   "metadata": {
    "slideshow": {
     "slide_type": "fragment"
    }
   },
   "source": [
    "```python\n",
    "@app.get(\"/suppliers/{supplier_id}\")\n",
    "async def single_supplier(supplier_id: int):\n",
    "    app.db_connection.row_factory = sqlite3.Row\n",
    "    data = app.db_connection.execute(\n",
    "        \"SELECT CompanyName, Address FROM Suppliers WHERE SupplierID = :supplier_id\",\n",
    "        {'supplier_id': supplier_id}).fetchone()\n",
    "\n",
    "    return data\n",
    "```"
   ]
  },
  {
   "cell_type": "markdown",
   "metadata": {
    "slideshow": {
     "slide_type": "fragment"
    }
   },
   "source": [
    "- `?` placeholder \"pozycyjny\" - pod kolejne znaki zapytania podstawiane są kolejne wartości z tupli\n",
    "- `:nazwa` to \"keyword\" placeholder, jako drugi argument to `execute` przekazujemy słownik; dane są podstawiane na podstawie kluczy ze słownika"
   ]
  },
  {
   "cell_type": "markdown",
   "metadata": {
    "slideshow": {
     "slide_type": "subslide"
    }
   },
   "source": [
    "## 5.3 JOIN"
   ]
  },
  {
   "cell_type": "markdown",
   "metadata": {
    "slideshow": {
     "slide_type": "fragment"
    }
   },
   "source": [
    "Łączenie tabel ze sobą :\n",
    "```sql\n",
    "SELECT {lista_pól} FROM {nazwa_tabeli}\n",
    "JOIN {nazwa_innej_tabeli} ON {warunek_joina}\n",
    "(opcjonalnie) WHERE {warunek};\n",
    "```"
   ]
  },
  {
   "cell_type": "markdown",
   "metadata": {
    "slideshow": {
     "slide_type": "fragment"
    }
   },
   "source": [
    "np.\n",
    "\n",
    "```sql\n",
    "SELECT Employees.LastName, Employees.FirstName, Territories.TerritoryDescription \n",
    "FROM Employees JOIN EmployeeTerritories ON Employees.EmployeeID = EmployeeTerritories.EmployeeID\n",
    "JOIN Territories ON EmployeeTerritories.TerritoryID = Territories.TerritoryID;\n",
    "```"
   ]
  },
  {
   "cell_type": "markdown",
   "metadata": {
    "slideshow": {
     "slide_type": "subslide"
    }
   },
   "source": [
    "- Istnieją różne typy JOINów:\n",
    "    - `LEFT JOIN`\n",
    "    - `RIGHT JOIN`\n",
    "    - `INNER JOIN`\n",
    "    - `CROSS JOIN`\n",
    "    - `FULL JOIN`\n",
    "    - `INNER LEFT JOIN`\n",
    "    - `INNER RIGHT JOIN`\n",
    "    - `NATURAL JOIN`\n",
    "    - ....\n",
    "- Dobre przykłady: https://www.w3schools.com/sql/sql_join.asp\n",
    "- Świetne objaśnienia: https://blog.codinghorror.com/a-visual-explanation-of-sql-joins/\n",
    "- Będziemy się zajmować najczęstszym przypadkiem po prostu `JOIN`"
   ]
  },
  {
   "cell_type": "markdown",
   "metadata": {
    "slideshow": {
     "slide_type": "subslide"
    }
   },
   "source": [
    "### 5.3.1 Przykład 3"
   ]
  },
  {
   "cell_type": "markdown",
   "metadata": {
    "slideshow": {
     "slide_type": "fragment"
    }
   },
   "source": [
    "- Dodaj widok listy Pracowników rozszerzony o region z którego pochodzą - `/employee_with_region`.\n",
    "- Docelowy format odpowiedzi\n",
    "```json\n",
    "[\n",
    "    {\n",
    "        \"employee\": \"first_name last_name\", \n",
    "        \"region\": \"employee region\"\n",
    "    },\n",
    "    {\n",
    "        \"employee\": \"first_name last_name\", \n",
    "        \"region\": \"employee region\"\n",
    "    }\n",
    "    ...\n",
    "]\n",
    "```"
   ]
  },
  {
   "cell_type": "markdown",
   "metadata": {
    "slideshow": {
     "slide_type": "subslide"
    }
   },
   "source": [
    "## 5.4 LIMIT, OFFSET, ORDER BY"
   ]
  },
  {
   "cell_type": "markdown",
   "metadata": {
    "slideshow": {
     "slide_type": "fragment"
    }
   },
   "source": [
    "Pobranie rekordów w określonej kolejności\n",
    "```sql\n",
    "SELECT {lista_pól} FROM {nazwa_tabeli} ORDER BY {nazwa_pola};\n",
    "```"
   ]
  },
  {
   "cell_type": "markdown",
   "metadata": {
    "slideshow": {
     "slide_type": "fragment"
    }
   },
   "source": [
    "Np.\n",
    "\n",
    "```sql\n",
    "SELECT * FROM employees ORDER BY lastname;\n",
    "```"
   ]
  },
  {
   "cell_type": "markdown",
   "metadata": {
    "slideshow": {
     "slide_type": "fragment"
    }
   },
   "source": [
    "Pobranie ograniczonej liczby rekordów\n",
    "```sql\n",
    "SELECT {lista_pól} FROM {nazwa_tabeli} LIMIT {liczba_rekordów};\n",
    "```"
   ]
  },
  {
   "cell_type": "markdown",
   "metadata": {
    "slideshow": {
     "slide_type": "fragment"
    }
   },
   "source": [
    "Np.\n",
    "```sql\n",
    "SELECT * FROM Customers LIMIT 10;\n",
    "```"
   ]
  },
  {
   "cell_type": "markdown",
   "metadata": {
    "slideshow": {
     "slide_type": "subslide"
    }
   },
   "source": [
    "Pobranie ograniczonej liczby rekordów z pominięciem pierwszych\n",
    "```sql\n",
    "SELECT {lista_pól} FROM {nazwa_tabeli} LIMIT {liczba_rekordów} OFFSET {liczba_pominiętych_rekordów};\n",
    "```"
   ]
  },
  {
   "cell_type": "markdown",
   "metadata": {
    "slideshow": {
     "slide_type": "fragment"
    }
   },
   "source": [
    "```python\n",
    "@app.get(\"/employee_with_region\")\n",
    "async def employee_with_region():\n",
    "    app.db_connection.row_factory = sqlite3.Row\n",
    "    data = app.db_connection.execute('''\n",
    "        SELECT Employees.LastName, Employees.FirstName, Territories.TerritoryDescription \n",
    "        FROM Employees JOIN EmployeeTerritories ON Employees.EmployeeID = EmployeeTerritories.EmployeeID\n",
    "        JOIN Territories ON EmployeeTerritories.TerritoryID = Territories.TerritoryID;\n",
    "     ''').fetchall()\n",
    "    return [{\"employee\": f\"{x['FirstName']} {x['LastName']}\", \"region\": x[\"TerritoryDescription\"]} for x in data]\n",
    "```"
   ]
  },
  {
   "cell_type": "markdown",
   "metadata": {
    "slideshow": {
     "slide_type": "fragment"
    }
   },
   "source": [
    "Np.\n",
    "```sql\n",
    "SELECT * FROM Customers LIMIT 10 OFFSET 20;\n",
    "```"
   ]
  },
  {
   "cell_type": "markdown",
   "metadata": {
    "slideshow": {
     "slide_type": "fragment"
    }
   },
   "source": [
    "Warto doczytać:\n",
    "- http://www.sqlitetutorial.net/sqlite-limit/"
   ]
  },
  {
   "cell_type": "markdown",
   "metadata": {
    "slideshow": {
     "slide_type": "subslide"
    }
   },
   "source": [
    "### 5.4.1 Przykład 4"
   ]
  },
  {
   "cell_type": "markdown",
   "metadata": {
    "slideshow": {
     "slide_type": "fragment"
    }
   },
   "source": [
    "- Dodaj widok listy Pracowników rozszerzony o region z jakiego pracownik pochodzi - `/employee_with_region_order` posortowaną po nazwisku pracownika\n",
    "- Docelowy format odpowiedzi taki sam jak w przykładzie nr 3:\n",
    "```json\n",
    "[\n",
    "    {\n",
    "        \"employee\": \"first_name last_name\", \n",
    "        \"region\": \"region\"\n",
    "    },\n",
    "    {\n",
    "        \"employee\": \"first_name last_name\", \n",
    "        \"region\": \"region\"\n",
    "    }\n",
    "    ...\n",
    "]\n",
    "```"
   ]
  },
  {
   "cell_type": "markdown",
   "metadata": {
    "slideshow": {
     "slide_type": "fragment"
    }
   },
   "source": [
    "```python\n",
    "@app.get(\"/employee_with_region_order\")\n",
    "async def employee_with_region():\n",
    "    app.db_connection.row_factory = sqlite3.Row\n",
    "    data = app.db_connection.execute('''\n",
    "        SELECT Employees.LastName, Employees.FirstName, Territories.TerritoryDescription \n",
    "        FROM Employees JOIN EmployeeTerritories ON Employees.EmployeeID = EmployeeTerritories.EmployeeID\n",
    "        JOIN Territories ON EmployeeTerritories.TerritoryID = Territories.TerritoryID\n",
    "        ORDER BY Employees.LastName;\n",
    "     ''').fetchall()\n",
    "    return [{\"employee\": f\"{x['FirstName']} {x['LastName']}\", \"region\": x[\"TerritoryDescription\"]} for x in data]\n",
    "```"
   ]
  },
  {
   "cell_type": "markdown",
   "metadata": {
    "slideshow": {
     "slide_type": "subslide"
    }
   },
   "source": [
    "## 5.5 INSERT"
   ]
  },
  {
   "cell_type": "markdown",
   "metadata": {
    "slideshow": {
     "slide_type": "subslide"
    }
   },
   "source": [
    "### 5.5.1  Przykład 5"
   ]
  },
  {
   "cell_type": "markdown",
   "metadata": {
    "slideshow": {
     "slide_type": "fragment"
    }
   },
   "source": [
    "Dodanie pełnego wiersza do tabeli:\n",
    "```sql\n",
    "INSERT INTO {nazwa_tabeli} VALUES ('{wartość_pola}', '{wartość_pola}', [...]); \n",
    "```"
   ]
  },
  {
   "cell_type": "markdown",
   "metadata": {
    "slideshow": {
     "slide_type": "fragment"
    }
   },
   "source": [
    "Dodanie wiersza do tabeli dla konkretnych pól:\n",
    "```sql\n",
    "INSERT INTO {nazwa_tabeli} ({nazwa_pola},{nazwa_pola},[...]) VALUES ('{wartość_pola}', '{wartość_pola}', [...]); \n",
    "```"
   ]
  },
  {
   "cell_type": "markdown",
   "metadata": {
    "slideshow": {
     "slide_type": "fragment"
    }
   },
   "source": [
    "np:\n",
    "```sql\n",
    "INSERT INTO Shippers VALUES ('New Shipper', '+016666666666')\n",
    "```"
   ]
  },
  {
   "cell_type": "markdown",
   "metadata": {
    "slideshow": {
     "slide_type": "fragment"
    }
   },
   "source": [
    "- Stwórz widok dodawania nowego klienta `/customers/add` oraz widok listy klientów `/customers`.\n",
    "- Docelowe formaty komunikacji\n",
    "    - `/customers/add`\n",
    "        - zapytania:\n",
    "        ```json\n",
    "        {\n",
    "            \"compamny_name\": \"compamny_name\"\n",
    "        }\n",
    "        ```\n",
    "        - odpowiedzi\n",
    "        ```json\n",
    "        {\n",
    "            \"compamny_id\": new_id, \n",
    "            \"compamny_name\": \"compamny_name\"\n",
    "        }\n",
    "        ```\n",
    "    - `/customers`\n",
    "        - odpowiedzi\n",
    "        ```json\n",
    "        [\n",
    "            \"compamny_name\", \"compamny_name\", \"compamny_name\",  ...\n",
    "        ]\n",
    "        ```"
   ]
  },
  {
   "cell_type": "markdown",
   "metadata": {
    "slideshow": {
     "slide_type": "subslide"
    }
   },
   "source": [
    "```python\n",
    "@app.get(\"/customers\")\n",
    "async def customers():\n",
    "    app.db_connection.row_factory = lambda cursor, x: x[0]\n",
    "    artists = app.db_connection.execute(\"SELECT CompanyName FROM Customers\").fetchall()\n",
    "    return artists\n",
    "```"
   ]
  },
  {
   "cell_type": "markdown",
   "metadata": {
    "slideshow": {
     "slide_type": "subslide"
    }
   },
   "source": [
    "```python\n",
    "from pydantic import BaseModel\n",
    "\n",
    "\n",
    "class Customer(BaseModel):\n",
    "    company_name: str\n",
    "```"
   ]
  },
  {
   "cell_type": "markdown",
   "metadata": {
    "slideshow": {
     "slide_type": "fragment"
    }
   },
   "source": [
    "```python\n",
    "@app.post(\"/customers/add\")\n",
    "async def customers_add(customer: Customer):\n",
    "    cursor = app.db_connection.execute(\n",
    "        f\"INSERT INTO Customers (CompanyName) VALUES ('{customer.company_name}')\"\n",
    "    )\n",
    "    app.db_connection.commit()\n",
    "    return {\n",
    "        \"CustomerID\": cursor.lastrowid,\n",
    "        \"CompanyName\": customer.company_name\n",
    "    }\n",
    "```"
   ]
  },
  {
   "cell_type": "markdown",
   "metadata": {
    "slideshow": {
     "slide_type": "subslide"
    }
   },
   "source": [
    "### 5.5.2 Co z tym kodem jest nie tak?"
   ]
  },
  {
   "cell_type": "markdown",
   "metadata": {
    "slideshow": {
     "slide_type": "fragment"
    }
   },
   "source": [
    "```md\n",
    "SQL Injection\n",
    "```\n",
    "\n",
    "![xkcd SQL Injection comic](https://imgs.xkcd.com/comics/exploits_of_a_mom.png )\n",
    "\n",
    "Źródło: https://imgs.xkcd.com/comics/exploits_of_a_mom.png\n",
    "\n",
    "https://xkcd.com/327/"
   ]
  },
  {
   "cell_type": "markdown",
   "metadata": {
    "slideshow": {
     "slide_type": "subslide"
    }
   },
   "source": [
    "### 5.5.3 Poprawna wykonanie `inserta`"
   ]
  },
  {
   "cell_type": "markdown",
   "metadata": {
    "slideshow": {
     "slide_type": "fragment"
    }
   },
   "source": [
    "```python\n",
    "@app.post(\"/customers/add\")\n",
    "async def artists_add(customer: Customer):\n",
    "    cursor = app.db_connection.execute(\n",
    "        \"INSERT INTO Customers (CompanyName) VALUES {?}\", (customer.company_name, )\n",
    "    )\n",
    "    app.db_connection.commit()\n",
    "    new_customer_id = cursor.lastrowid\n",
    "    app.db_connection.row_factory = sqlite3.Row\n",
    "    customer = app.db_connection.execute(\n",
    "        \"\"\"SELECT CustomerID AS customer_id, CompanyName AS company_name\n",
    "         FROM Customers WHERE CustomerID = ?\"\"\",\n",
    "        (new_customer_id, )).fetchone()\n",
    "    \n",
    "    return customer\n",
    "```"
   ]
  },
  {
   "cell_type": "markdown",
   "metadata": {
    "slideshow": {
     "slide_type": "subslide"
    }
   },
   "source": [
    "## 5.6 UPDATE"
   ]
  },
  {
   "cell_type": "markdown",
   "metadata": {
    "slideshow": {
     "slide_type": "fragment"
    }
   },
   "source": [
    "Aktualizacja wszystkich wierszy z tabeli\n",
    "```sql\n",
    "UPDATE {nazwa_tabeli} SET {nazwa_pola} = {wartość_pola}; \n",
    "```"
   ]
  },
  {
   "cell_type": "markdown",
   "metadata": {
    "slideshow": {
     "slide_type": "fragment"
    }
   },
   "source": [
    "Aktualizacja wybranych wierszy\n",
    "```sql\n",
    "UPDATE {nazwa_tabeli} SET {nazwa_pola} = {wartość_pola} WHERE {warunek}\n",
    "```"
   ]
  },
  {
   "cell_type": "markdown",
   "metadata": {
    "slideshow": {
     "slide_type": "fragment"
    }
   },
   "source": [
    "np:\n",
    "```sql\n",
    "UPDATE Shippers SET CompanyName = UPPER(name)\n",
    "```"
   ]
  },
  {
   "cell_type": "markdown",
   "metadata": {
    "slideshow": {
     "slide_type": "subslide"
    }
   },
   "source": [
    "### 5.6.1 Przykład 6"
   ]
  },
  {
   "cell_type": "markdown",
   "metadata": {
    "slideshow": {
     "slide_type": "fragment"
    }
   },
   "source": [
    "- Stwórz widok edycji spedytora `/shippers/edit/{shipper_id}`\n",
    "- Docelowe formaty komunikacji\n",
    "    - `/shippers/edit/{shipper_id}`\n",
    "        - zapytania:\n",
    "        ```json\n",
    "        {\n",
    "            \"name\": \"shipper_name\"\n",
    "        }\n",
    "        ```\n",
    "        - odpowiedzi\n",
    "        ```json\n",
    "        {\n",
    "            \"shipper_id\": new_id, \n",
    "            \"shipper_name\": \"shipper_name\"\n",
    "        }\n",
    "        ```"
   ]
  },
  {
   "cell_type": "markdown",
   "metadata": {
    "slideshow": {
     "slide_type": "subslide"
    }
   },
   "source": [
    "```python\n",
    "class Shipper(BaseModel):\n",
    "    company_name: str\n",
    "```"
   ]
  },
  {
   "cell_type": "markdown",
   "metadata": {
    "slideshow": {
     "slide_type": "subslide"
    }
   },
   "source": [
    "```python\n",
    "@app.patch(\"/shippers/edit/{shipper_id}\")\n",
    "async def artists_add(shipper_id: int, shipper: Shipper):\n",
    "    cursor = app.db_connection.execute(\n",
    "        \"UPDATE Shippers SET CompanyName = ? WHERE ShipperID = ?\", (\n",
    "            shipper.company_name, shipper_id)\n",
    "    )\n",
    "    app.db_connection.commit()\n",
    "\n",
    "    app.db_connection.row_factory = sqlite3.Row\n",
    "    data = app.db_connection.execute(\n",
    "        \"\"\"SELECT ShipperID AS shipper_id, CompanyName AS company_name\n",
    "         FROM Shippers WHERE ShipperID = ?\"\"\",\n",
    "        (shipper_id, )).fetchone()\n",
    "\n",
    "    return data\n",
    "```"
   ]
  },
  {
   "cell_type": "markdown",
   "metadata": {
    "slideshow": {
     "slide_type": "subslide"
    }
   },
   "source": [
    "## 5.7 DELETE"
   ]
  },
  {
   "cell_type": "markdown",
   "metadata": {
    "slideshow": {
     "slide_type": "fragment"
    }
   },
   "source": [
    "Usunięcie wszystkich wierszy z tabeli\n",
    "```sql\n",
    "DELETE FROM {nazwa_tabeli};\n",
    "```"
   ]
  },
  {
   "cell_type": "markdown",
   "metadata": {
    "slideshow": {
     "slide_type": "fragment"
    }
   },
   "source": [
    "Usunięcie wybranych wierszy\n",
    "```sql\n",
    "DELETE FROM {nazwa_tabeli} WHERE {warunek};\n",
    "```"
   ]
  },
  {
   "cell_type": "markdown",
   "metadata": {
    "slideshow": {
     "slide_type": "subslide"
    }
   },
   "source": [
    "### 5.7.1 Przykład 7"
   ]
  },
  {
   "cell_type": "markdown",
   "metadata": {
    "slideshow": {
     "slide_type": "fragment"
    }
   },
   "source": [
    "- Dodaj możliwość usunięcia wybranego zamówienia `/orders/delete/{order_id}`\n",
    "- Odpowiedź podaj w formacie:\n",
    "```json\n",
    "{\n",
    "    \"deleted\": int # ilość usuniętych wierszy z bazy danych\n",
    "}\n",
    "```"
   ]
  },
  {
   "cell_type": "markdown",
   "metadata": {
    "slideshow": {
     "slide_type": "fragment"
    }
   },
   "source": [
    "```python\n",
    "@app.get(\"/orders\")\n",
    "async def orders():\n",
    "    app.db_connection.row_factory = sqlite3.Row\n",
    "    orders = app.db_connection.execute(\"SELECT * FROM Orders\").fetchall()\n",
    "    return {\n",
    "        \"orders_counter\": len(orders),\n",
    "        \"orders\": orders,\n",
    "    }\n",
    "```"
   ]
  },
  {
   "cell_type": "markdown",
   "metadata": {
    "slideshow": {
     "slide_type": "fragment"
    }
   },
   "source": [
    "```python\n",
    "@app.delete(\"/orders/delete/{order_id}\")\n",
    "async def order_delete(order_id: int):\n",
    "    cursor = app.db_connection.execute(\n",
    "        \"DELETE FROM Orders WHERE OrderID = ?\", (order_id, )\n",
    "    )\n",
    "    app.db_connection.commit()\n",
    "    return {\"deleted\": cursor.rowcount}\n",
    "```"
   ]
  },
  {
   "cell_type": "markdown",
   "metadata": {
    "slideshow": {
     "slide_type": "subslide"
    }
   },
   "source": [
    "## 5.8 Funkcje agregujące"
   ]
  },
  {
   "cell_type": "markdown",
   "metadata": {
    "slideshow": {
     "slide_type": "fragment"
    }
   },
   "source": [
    "- MIN\n",
    "- MAX\n",
    "- SUM\n",
    "- AVG\n",
    "- COUNT\n",
    "- COUNT(*)"
   ]
  },
  {
   "cell_type": "markdown",
   "metadata": {
    "slideshow": {
     "slide_type": "fragment"
    }
   },
   "source": [
    "Wykonanie funkcji agregującej dla wybranej kolumny\n",
    "```sql\n",
    "SELECT {funkcja_agregująca}( {kolumna} ) FROM {tabela};\n",
    "```"
   ]
  },
  {
   "cell_type": "markdown",
   "metadata": {
    "slideshow": {
     "slide_type": "fragment"
    }
   },
   "source": [
    "Np: najtańszy produkt tabeli `Products`\n",
    "```sql\n",
    "SELECT MIN(UnitPrice) FROM Products;\n",
    "```"
   ]
  },
  {
   "cell_type": "markdown",
   "metadata": {
    "slideshow": {
     "slide_type": "subslide"
    }
   },
   "source": [
    "Zliczenie wszystkich wierszy w tabeli\n",
    "```sql\n",
    "SELECT COUNT(*) FROM {tabela};\n",
    "```"
   ]
  },
  {
   "cell_type": "markdown",
   "metadata": {
    "slideshow": {
     "slide_type": "fragment"
    }
   },
   "source": [
    "Np.\n",
    "```sql\n",
    "SELECT COUNT(*) FROM Customers;\n",
    "```\n"
   ]
  },
  {
   "cell_type": "markdown",
   "metadata": {
    "slideshow": {
     "slide_type": "subslide"
    }
   },
   "source": [
    "### 5.8.1 Przykład 8"
   ]
  },
  {
   "cell_type": "markdown",
   "metadata": {
    "slideshow": {
     "slide_type": "fragment"
    }
   },
   "source": [
    "- Dodaj widok listy regionów wraz z ich licznikiem wg formatu:\n",
    "- Endpoint powinien zwrócić listę regionów oraz ich ilość w postaci\n",
    "\n",
    "```json\n",
    "{\n",
    "    \"region\": [str, str, ...],\n",
    "    \"region_counter\": int\n",
    "}\n",
    "```"
   ]
  },
  {
   "cell_type": "markdown",
   "metadata": {
    "slideshow": {
     "slide_type": "fragment"
    }
   },
   "source": [
    "```python\n",
    "@app.get(\"/region_count\")\n",
    "async def root():\n",
    "    app.db_connection.row_factory = lambda cursor, x: x[0]\n",
    "    regions = app.db_connection.execute(\"SELECT RegionDescription FROM Regions ORDER BY RegionDescription DESC\").fetchall()\n",
    "    count = app.db_connection.execute('SELECT COUNT(*) FROM Regions').fetchone()\n",
    "\n",
    "    return {\n",
    "        \"regions\": regions,\n",
    "        \"regions_counter\": count\n",
    "    }\n",
    "```"
   ]
  },
  {
   "cell_type": "markdown",
   "metadata": {
    "slideshow": {
     "slide_type": "subslide"
    }
   },
   "source": [
    "### 5.8.2 Porównanie wydajności funkcji SQL z obliczeniami w Pythonie na przykładzie AVG "
   ]
  },
  {
   "cell_type": "code",
   "execution_count": 2,
   "metadata": {
    "slideshow": {
     "slide_type": "fragment"
    }
   },
   "outputs": [],
   "source": [
    "import timeit"
   ]
  },
  {
   "cell_type": "code",
   "execution_count": 3,
   "metadata": {
    "slideshow": {
     "slide_type": "fragment"
    }
   },
   "outputs": [],
   "source": [
    "ab_avg = timeit.timeit(\n",
    "    \"c.execute('SELECT AVG(UnitPrice) FROM Products').fetchone()\",\n",
    "    setup=\"import sqlite3;conn = sqlite3.connect('northwind.db');c = conn.cursor();\",\n",
    "    number=1000\n",
    ")"
   ]
  },
  {
   "cell_type": "code",
   "execution_count": 4,
   "metadata": {
    "slideshow": {
     "slide_type": "fragment"
    }
   },
   "outputs": [],
   "source": [
    "python_avg = timeit.timeit(\n",
    "    \"result = c.execute('SELECT UnitPrice FROM Products').fetchall(); l = [r[0] for r in result]; sum(l) / len(l)\",\n",
    "    setup=\"import sqlite3;conn = sqlite3.connect('northwind.db');c = conn.cursor();\",\n",
    "    number=1000\n",
    ")"
   ]
  },
  {
   "cell_type": "code",
   "execution_count": 5,
   "metadata": {
    "slideshow": {
     "slide_type": "fragment"
    }
   },
   "outputs": [
    {
     "name": "stdout",
     "output_type": "stream",
     "text": [
      "ab_avg=0.014312217999759014\n",
      "python_avg=0.05563114399956248\n",
      "różnica: ~3x szyciej\n"
     ]
    }
   ],
   "source": [
    "# Wynik:\n",
    "print(f\"{ab_avg=}\")\n",
    "print(f\"{python_avg=}\")\n",
    "print(f\"różnica: ~{int(python_avg/ab_avg)}x szyciej\")"
   ]
  },
  {
   "cell_type": "markdown",
   "metadata": {
    "slideshow": {
     "slide_type": "subslide"
    }
   },
   "source": [
    "## 5.9 CREATE TABLE"
   ]
  },
  {
   "cell_type": "markdown",
   "metadata": {
    "slideshow": {
     "slide_type": "fragment"
    }
   },
   "source": [
    "Tworzenie tabeli\n",
    "```sql\n",
    "CREATE TABLE {nazwa_tabeli} ({lista_pól});\n",
    "```"
   ]
  },
  {
   "cell_type": "markdown",
   "metadata": {
    "slideshow": {
     "slide_type": "fragment"
    }
   },
   "source": [
    "- Przykład: \n",
    "\n",
    "```sql\n",
    "CREATE TABLE actor (\n",
    "  actor_id INTEGER NOT NULL PRIMARY KEY ,\n",
    "  first_name TEXT,\n",
    "  last_name TEXT,\n",
    "  last_update INTEGER,\n",
    "  social_security_no INTEGER\n",
    ");\n",
    "```"
   ]
  },
  {
   "cell_type": "markdown",
   "metadata": {
    "slideshow": {
     "slide_type": "subslide"
    }
   },
   "source": [
    "- Możemy użyć wszystkich constraintów w trakcie deklaracji tabeli\n",
    "    - NOT NULL Constraint\n",
    "    - DEFAULT Constraint\n",
    "    - UNIQUE Constraint\n",
    "    - PRIMARY Key\n",
    "    - CHECK Constraint"
   ]
  },
  {
   "cell_type": "markdown",
   "metadata": {
    "slideshow": {
     "slide_type": "fragment"
    }
   },
   "source": [
    "- Przykład: \n",
    "\n",
    "```sql\n",
    "CREATE TABLE actor (\n",
    "  actor_id INTEGER NOT NULL PRIMARY KEY ,\n",
    "  first_name TEXT NOT NULL,\n",
    "  last_name TEXT NOT NULL DEFAULT \"KOWALSKI\",\n",
    "  last_update INTEGER NOT NULL,\n",
    "  social_security_no INTEGER UNIQUE CHECK(social_security_no > 10000000)\n",
    ");\n",
    "```"
   ]
  },
  {
   "cell_type": "markdown",
   "metadata": {
    "slideshow": {
     "slide_type": "fragment"
    }
   },
   "source": [
    "https://www.sqlite.org/lang_createtable.html"
   ]
  },
  {
   "cell_type": "markdown",
   "metadata": {
    "slideshow": {
     "slide_type": "subslide"
    }
   },
   "source": [
    "## 5.10 CREATE INDEX"
   ]
  },
  {
   "cell_type": "markdown",
   "metadata": {
    "slideshow": {
     "slide_type": "fragment"
    }
   },
   "source": [
    "Tworzenie indeksu\n",
    "```sql\n",
    "CREATE INDEX {nazwa_indeksu} ON {nazwa_tabeli}({nazwa_pola});\n",
    "```"
   ]
  },
  {
   "cell_type": "markdown",
   "metadata": {
    "slideshow": {
     "slide_type": "fragment"
    }
   },
   "source": [
    "Przykłady: "
   ]
  },
  {
   "cell_type": "markdown",
   "metadata": {
    "slideshow": {
     "slide_type": "fragment"
    }
   },
   "source": [
    "```sql\n",
    "CREATE INDEX idx_Customers_contact_name ON Customers(ContactName);\n",
    "```"
   ]
  },
  {
   "cell_type": "markdown",
   "metadata": {
    "slideshow": {
     "slide_type": "fragment"
    }
   },
   "source": [
    "```sql\n",
    "CREATE UNIQUE INDEX idx_customers_details ON Customers(CompanyName, ContactName);\n",
    "```"
   ]
  },
  {
   "cell_type": "markdown",
   "metadata": {
    "slideshow": {
     "slide_type": "fragment"
    }
   },
   "source": [
    "https://www.sqlite.org/lang_createindex.html"
   ]
  },
  {
   "cell_type": "markdown",
   "metadata": {
    "slideshow": {
     "slide_type": "subslide"
    }
   },
   "source": [
    "## 5.11 ALTER TABLE"
   ]
  },
  {
   "cell_type": "markdown",
   "metadata": {
    "slideshow": {
     "slide_type": "fragment"
    }
   },
   "source": [
    "Wprowadzenie zmian w istniejącej tabeli. Np. dodawanie nowej kolumny."
   ]
  },
  {
   "cell_type": "markdown",
   "metadata": {
    "slideshow": {
     "slide_type": "fragment"
    }
   },
   "source": [
    "Zmiana kolumn w tabeli\n",
    "```sql\n",
    "ALTER TABLE {nazwa_tabeli} {zmiana};\n",
    "```"
   ]
  },
  {
   "cell_type": "markdown",
   "metadata": {
    "slideshow": {
     "slide_type": "fragment"
    }
   },
   "source": [
    "Przykłady: "
   ]
  },
  {
   "cell_type": "markdown",
   "metadata": {
    "slideshow": {
     "slide_type": "fragment"
    }
   },
   "source": [
    "```sql\n",
    "ALTER TABLE actor ADD COLUMN hair_color TEXT;\n",
    "```"
   ]
  },
  {
   "cell_type": "markdown",
   "metadata": {
    "slideshow": {
     "slide_type": "fragment"
    }
   },
   "source": [
    "https://www.sqlite.org/lang_altertable.html"
   ]
  },
  {
   "cell_type": "markdown",
   "metadata": {
    "slideshow": {
     "slide_type": "subslide"
    }
   },
   "source": [
    "## 5.12 DROP TABLE"
   ]
  },
  {
   "cell_type": "markdown",
   "metadata": {
    "slideshow": {
     "slide_type": "fragment"
    }
   },
   "source": [
    "Usunięcie tabeli"
   ]
  },
  {
   "cell_type": "markdown",
   "metadata": {
    "slideshow": {
     "slide_type": "fragment"
    }
   },
   "source": [
    "```sql\n",
    "DROP TABLE {nazwa_tabeli};\n",
    "```"
   ]
  },
  {
   "cell_type": "markdown",
   "metadata": {
    "slideshow": {
     "slide_type": "fragment"
    }
   },
   "source": [
    "np.\n",
    "```sql\n",
    "DROP TABLE actor;\n",
    "```"
   ]
  },
  {
   "cell_type": "markdown",
   "metadata": {
    "slideshow": {
     "slide_type": "fragment"
    }
   },
   "source": [
    "https://www.sqlite.org/lang_droptable.html"
   ]
  },
  {
   "cell_type": "markdown",
   "metadata": {
    "slideshow": {
     "slide_type": "slide"
    }
   },
   "source": [
    "# 6 Deploy na Heroku"
   ]
  },
  {
   "cell_type": "markdown",
   "metadata": {},
   "source": [
    "- __SQLite__ na __Heroku__? Nie jest to najlepszy pomysł https://devcenter.heroku.com/articles/sqlite3\n",
    "- Wystarczy wypchnąć dodatkowo plik z bazą danych na Heroku\n",
    "- Problem: Wprowadzane w nim zmiany będą wymazywane, przynajmniej raz na 24h - po każdym deployu, restarcie i co około 24h z powodu tego , jak Heroku zarządza swoimi `dynos`\n",
    "- Co z tym robimy? Na tych zajęciach nic\n",
    "- Dobre rozwiązanie? Korzystanie z __Heroku Postgres__ https://elements.heroku.com/addons/heroku-postgresql zamiast z __sqlite__ ale to już na kolejnych zajęciach"
   ]
  },
  {
   "cell_type": "markdown",
   "metadata": {
    "slideshow": {
     "slide_type": "slide"
    }
   },
   "source": [
    "# 8 EXTRA"
   ]
  },
  {
   "cell_type": "markdown",
   "metadata": {
    "slideshow": {
     "slide_type": "subslide"
    }
   },
   "source": [
    "## 8.1 Sakila - Inna baz danych stworzona do testowania"
   ]
  },
  {
   "cell_type": "markdown",
   "metadata": {},
   "source": [
    "- Przykładowa baza danych stworzona przez zespół odpowiedzialny za MySQL, jest dużo większa od northwind\n",
    "    - https://dev.mysql.com/doc/sakila/en/sakila-introduction.html\n",
    "- Pobieramy:\n",
    "    - https://github.com/jOOQ/jOOQ/raw/master/jOOQ-examples/Sakila/sqlite-sakila-db/sqlite-sakila-schema.sql\n",
    "    - https://github.com/jOOQ/jOOQ/raw/master/jOOQ-examples/Sakila/sqlite-sakila-db/sqlite-sakila-insert-data.sql\n",
    "\n",
    "- Następnie wykonujemy:"
   ]
  },
  {
   "cell_type": "markdown",
   "metadata": {
    "slideshow": {
     "slide_type": "subslide"
    }
   },
   "source": [
    "```python\n",
    "import sqlite3\n",
    "\n",
    "conn = sqlite3.connect('/path/to/database.db')\n",
    "c = conn.cursor()\n",
    "\n",
    "with open('sqlite-sakila-schema.sql', 'r', encoding='utf-8') as create_file:\n",
    "    create_query = create_file.read()\n",
    "with open('sqlite-sakila-insert-data.sql', 'r', encoding='utf-8') as insert_file:\n",
    "    insert_query = insert_file.read()\n",
    "\n",
    "c.executescript(create_query)\n",
    "c.executescript(insert_query)\n",
    "\n",
    "conn.commit()\n",
    "conn.close()\n",
    "```"
   ]
  },
  {
   "cell_type": "markdown",
   "metadata": {
    "slideshow": {
     "slide_type": "subslide"
    }
   },
   "source": [
    "## 8.2 Tips & Tricks"
   ]
  },
  {
   "cell_type": "markdown",
   "metadata": {},
   "source": [
    "- Skrypt z insertami wolno działa? http://www.sqlite.org/faq.html#q19\n",
    "- Rozwiązanie: http://www.sqlite.org/lang_transaction.html\n",
    "    - bez BEGIN TRANSACTION; .. COMMIT; - 2h10min\n",
    "    - z BEGIN TRANSACTION; .. COMMIT; - kilkanaście sekund"
   ]
  },
  {
   "cell_type": "markdown",
   "metadata": {
    "slideshow": {
     "slide_type": "subslide"
    }
   },
   "source": [
    "## 8.3 Tutoriale"
   ]
  },
  {
   "cell_type": "markdown",
   "metadata": {},
   "source": [
    "- Interaktywny webowy tutorial SQL: https://sqlbolt.com/"
   ]
  },
  {
   "cell_type": "code",
   "execution_count": null,
   "metadata": {},
   "outputs": [],
   "source": []
  }
 ],
 "metadata": {
  "kernelspec": {
   "display_name": "Python 3",
   "language": "python",
   "name": "python3"
  },
  "language_info": {
   "codemirror_mode": {
    "name": "ipython",
    "version": 3
   },
   "file_extension": ".py",
   "mimetype": "text/x-python",
   "name": "python",
   "nbconvert_exporter": "python",
   "pygments_lexer": "ipython3",
   "version": "3.8.2"
  }
 },
 "nbformat": 4,
 "nbformat_minor": 4
}
