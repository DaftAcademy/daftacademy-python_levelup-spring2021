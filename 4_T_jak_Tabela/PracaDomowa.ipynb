{
 "cells": [
  {
   "cell_type": "markdown",
   "id": "c3ed62df-d947-4ec7-b14c-72f34f599203",
   "metadata": {},
   "source": [
    "## Praca Domowa - Wykład nr 4\n",
    "\n",
    "W pracy domowej do wykładu numer cztery, nadal tworzymy aplikację internetową. W związku z tym kod wrzucamy na platformę `Heroku` wraz z plikiem bazy, zaś do `CodingRooms` wrzucamy jedynie link do aplikacji.\n",
    "\n",
    "#### UWAGA \n",
    "Do zadań wykorzystujemy bazę z repozytorium - northwind.db\n",
    "\n"
   ]
  },
  {
   "cell_type": "markdown",
   "id": "2cde3c8f-ead4-4fd9-8867-3fe17d09eca1",
   "metadata": {},
   "source": [
    "### Zadanie 4.1\n",
    "\n",
    "Na pierwszy ogień stwórz dwa endpointy `/categories` oraz `/customers`. Oba endpointy mają być obsługiwane przez metodę `GET`, zwracać kod `HTTP 200` oraz dane mają być posortowane po kolumnie `id`."
   ]
  },
  {
   "cell_type": "markdown",
   "id": "53c57f10-4dc3-4e80-969e-cb13afb4d400",
   "metadata": {},
   "source": [
    "Endpoint `/categories` ma zwracać rekordy z tabeli `Categories` w następującym formacie:\n",
    "```\n",
    "{\n",
    "    \"categories\": [\n",
    "         {\"id\": 1, \"name\": \"Beverages\"},\n",
    "         [...]\n",
    "     ]\n",
    "}\n",
    "```\n",
    "gdzie `id` to jest kolumna `CategoryID`, zaś `name` to `CategoryName`."
   ]
  },
  {
   "cell_type": "markdown",
   "id": "2c8ec17f-2ec2-4e16-a92e-868f811c3faf",
   "metadata": {},
   "source": [
    "Endpoint `/customers` ma zwracać rekordy z tabeli `Customers` w następującym formacie:\n",
    "```\n",
    "{\n",
    "    \"customers\": [\n",
    "        {\n",
    "            \"id\": \"ALFKI\",\n",
    "            \"name\": \"Alfreds Futterkiste\",\n",
    "            \"full_address\":  \"Obere Str. 57 12209 Berlin Germany\",\n",
    "        },\n",
    "        [...]\n",
    "     ]\n",
    "}\n",
    "```\n",
    "gdzie `id` to jest kolumna `CustomerID`, `name` to kolumna `CompanyName`, zaś `full_address` to są dane połączone z czterech kolumn w kolejności: `Address`,  `PostalCode`, `City` oraz `Country` oddzielone spacją."
   ]
  },
  {
   "cell_type": "markdown",
   "id": "9ed67807-8a39-4236-85fd-6d1caaf28519",
   "metadata": {},
   "source": [
    "### Zadanie 4.2\n",
    "\n",
    "Stwórz kolejny endpoint `/products/[id]`. Endpoint ma być obsługiwany przez metodę `GET`. Ma przyjmować id oraz zwracać dane rekordu z tabeli `Products` pod podanym id. Endpoint standardowo ma zwracać kod `HTTP 200` lub `HTTP 404` gdy rekord o podanym id nie istnieje. Zwrócona odpowiedź ma być jsonem w następującym formacie:\n",
    "```\n",
    "{\"id\": 1, \"name\": \"Chai\"}\n",
    "```\n",
    "gdzie `id` to jest kolumna `ProductID`, zaś `name` to `ProductName`."
   ]
  },
  {
   "cell_type": "markdown",
   "id": "887aa3f1-817c-4957-ab9e-b0342c9705ad",
   "metadata": {},
   "source": [
    "### Zadanie 4.3\n",
    "\n",
    "Stwórz endpoint `/employees`, obsługiwany przez metodę `GET`, ma zwracać defaultowo kod `HTTP 200` oraz ma pobierać dane z tabeli `Employees`. Dane defaultowo mają być posortowane po kolumnie `id`. Ponad to endpoint ma obsługiwać query parametry: `limit`, `offset` oraz `order`. Parametry `limit` oraz `offset` będą intami, zaś `order` będzie stringiem z nazwą kolumny po której należy posortować dane rosnąco. Dopuszczalne wartości dla parametru `order` to `first_name`, `last_name`, `city`. Gdyby parametr `order` miał inną wartość, należ zwrócić kod `HTTP 400`. Dane z ednpointu mają być zwrócone w postaci jsona w następującym formacie:\n",
    "\n",
    "```\n",
    "{\n",
    "    \"employees\": [\n",
    "        {\"id\":1,\"last_name\":\"Davolio\",\"first_name\":\"Nancy\",\"city\":\"Seattle\"},\n",
    "        [...]    \n",
    "   ]\n",
    "}\n",
    "```\n",
    "\n",
    "gdzie `id` to jest kolumna `EmployeeID`, `last_name` to `LastName`, `first_name` to `FirstName`, zaś `city` to `City`. "
   ]
  },
  {
   "cell_type": "markdown",
   "id": "54e5dbd2-4194-4364-b062-e2916dc1081e",
   "metadata": {},
   "source": [
    "### Zadanie 4.4\n",
    "\n",
    "Stwórz endpoint `/products_extended`, obsługiwany przez metodę `GET`, ma zwracać defaultowo kod `HTTP 200` oraz ma pobierać dane z tabeli `Products`. Dane mają być posortowane po kolumnie `id`oraz zwrócone w postaci jsona w nastepujący formacie:\n",
    "\n",
    "```\n",
    "{\n",
    "    \"products_extended\": [\n",
    "        {\n",
    "            \"id\": 1,\n",
    "            \"name\": \"Chai\",\n",
    "            \"category\": \"Beverages\",\n",
    "            \"supplier\": \"Exotic Liquids\",\n",
    "        },\n",
    "        [...]    \n",
    "   ]\n",
    "}\n",
    "```\n",
    "\n",
    "gdzie `id` to jest kolumna `ProductID`, `name` to `ProductName`, `category` to referencja do tabeli `Categories` i wartość z kolumny `CategoryName`, zaś `supplier` to referencja do tabeli `Suppliers` i wartość z kolumny `CompanyName`."
   ]
  },
  {
   "cell_type": "markdown",
   "id": "e7e57d2a-18f4-4d72-84b9-92c545c06931",
   "metadata": {},
   "source": [
    "### Zadanie 4.5\n",
    "\n",
    "Stwórz endpoint `/products/[id]/orders`, obsługiwany przez metodę `GET` oraz standardowo ma zwracać kod `HTTP 200`. Kod `HTTP 404` ma zostać zwrócony gdy produkt o podanym id nie istnieje. Endpoint ma za zadanie zwrócić `Orders`, w których znalazł się produkt o podanym id, posortowane po id zamówień w następującym formacie:\n",
    "```\n",
    "{\n",
    "    \"orders\": [\n",
    "        {\n",
    "            \"id\": 10273,\n",
    "            \"customer\": \"QUICK-Stop\",\n",
    "            \"quantity\": 24,\n",
    "            \"total_price\": 565.44,\n",
    "        },\n",
    "        [...]\n",
    "   ]\n",
    "}\n",
    "```\n",
    "gdzie \n",
    "- `id` to jest `OrderId` z tabeli `Orders`\n",
    "- `customer` to referencja do tabeli `Customers` i wartość z kolumny `CompanyName`\n",
    "- `quantity` to ilość zamowionego produktu o podanym id w danym zamówieniu (tabela `Order Details`)\n",
    "- `total_price` to wartość zamówionego produktu w danym zamówieniu, wyliczone według wzoru: `(UnitPrice x Quantity) - (Discount x (UnitPrice x Quantity))` (tabela `Order Details`). Otrzymaną wartość zaokrąglamy do dwóch miejsc po przecinku."
   ]
  },
  {
   "cell_type": "markdown",
   "id": "e5c51e13-03b1-4f44-acc2-a881f618006d",
   "metadata": {},
   "source": [
    "### Zadanie 4.6\n",
    "\n",
    "Endpointy w poprzednich zadaniach służyły do wydobywania danych z bazy, czyli `R` w akronimie `CRUD` (Create - Read - Update - Delete). Czas zakodzić pozostałe \"literki\". W tym zadaniu należy stworzyć trzy endpointy:"
   ]
  },
  {
   "cell_type": "markdown",
   "id": "924a9a82-3c36-4402-ae6c-6d209cd07c06",
   "metadata": {},
   "source": [
    "Endpoint `/categories`, który będzie obsługowany przez metodę `POST`, zwróci kod `HTTP 201`, będzie przyjmować takiego jsona:\n",
    "```\n",
    "{\"name\": \"new test category\"}\n",
    "```\n",
    "Enpoind ma za zadanie utworzyć rekord w tabeli `Categories`, gdzie wartość `name` ma być w kolumnie `CategoryName` oraz zwróci jsona z utworzonym rekordem:\n",
    "```\n",
    "{\"id\": 12323, \"name\": \"test category\"}\n",
    "```\n"
   ]
  },
  {
   "cell_type": "code",
   "execution_count": null,
   "id": "5025341c-381e-4717-a05b-3aaa2be4159e",
   "metadata": {},
   "outputs": [],
   "source": []
  },
  {
   "cell_type": "markdown",
   "id": "fdeb4215-212f-4f94-a805-f6f9b252794e",
   "metadata": {},
   "source": [
    "Endpoint `/categories/[id]`, który będzie obsługowany przez metodę `PUT`, zwróci kod `HTTP 200`, będzie przyjmować takiego jsona:\n",
    "```\n",
    "{\"name\": \"new test category\"}\n",
    "```\n",
    "Enpoind zmodyfikuje rekord w tabeli `Categories` o podanym id, oraz zwróci jsona ze zmodyfikowanym rekordem:\n",
    "```\n",
    "{\"id\": 12323, \"name\": \"test category\"}\n",
    "```\n",
    "W przypadku gdyby kategoria o podanym id nie istniała, endpoint ma zwrócić kod `HTTP 404`."
   ]
  },
  {
   "cell_type": "code",
   "execution_count": null,
   "id": "2fc3473f-3e17-4969-b120-c97d7150be8d",
   "metadata": {},
   "outputs": [],
   "source": []
  },
  {
   "cell_type": "markdown",
   "id": "adb23729-3199-4aaf-83f8-2d25a8088767",
   "metadata": {},
   "source": [
    "Endpoint `/categories/[id]`, który będzie obsługowany przez metodę `DELETE`, zwróci kod `HTTP 200`. Endpoint ma za zadanie usunąć rekord z tabeli `Categories` o podanym id i zwrócić nastepującego jsona:\n",
    "```\n",
    "{\"deleted\": 1}\n",
    "```\n",
    "W przypadku gdyby kategoria o podanym id nie istniała, endopoint ma zwrócić kod `HTTP 404`."
   ]
  },
  {
   "cell_type": "markdown",
   "id": "74bc6ff7-8e42-41a0-b030-be936dd24582",
   "metadata": {},
   "source": []
  }
 ],
 "metadata": {
  "kernelspec": {
   "display_name": "Python 3",
   "language": "python",
   "name": "python3"
  },
  "language_info": {
   "codemirror_mode": {
    "name": "ipython",
    "version": 3
   },
   "file_extension": ".py",
   "mimetype": "text/x-python",
   "name": "python",
   "nbconvert_exporter": "python",
   "pygments_lexer": "ipython3",
   "version": "3.8.0"
  }
 },
 "nbformat": 4,
 "nbformat_minor": 5
}
