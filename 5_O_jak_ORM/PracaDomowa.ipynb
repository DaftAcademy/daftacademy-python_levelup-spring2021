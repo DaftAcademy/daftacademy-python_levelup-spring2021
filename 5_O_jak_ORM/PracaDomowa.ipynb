{
 "cells": [
  {
   "cell_type": "markdown",
   "id": "a5dc0aab-0f6a-496b-b50e-e7a05243b18b",
   "metadata": {},
   "source": [
    "## Praca Domowa - Wykład nr 5\n",
    "\n",
    "Witam w ostatniej pracy domowej w tej edycji DaftAcademy. Dalej kontynuujemy tworzenie aplikacji internetowej z wykorzystaniem platformy `Heroku`. Do `CodingRooms` wrzucamy jedynie link kierujący do aplikacji. Celem tej pracy domowej jest stworzenie wszystkich endpointów CRUDowych z wykorzystaniem ORM'a sqlalchemy.\n"
   ]
  },
  {
   "cell_type": "markdown",
   "id": "73811e23-40cc-4e85-b136-c3cd1bbe4f54",
   "metadata": {},
   "source": [
    "### Zadanie 5.1\n",
    "\n",
    "Na początek stwórzmy dwa endpointy oparte o metodę `GET`. Pierwszy `/suppliers` ma zwrócić kod `HTTP 200`, dane posortowane po `SupplierID` i w następującym formacie:\n",
    "```\n",
    "[\n",
    "    {\"SupplierID\": 1, \"CompanyName\": \"Exotic Liquids\"},\n",
    "    {\"SupplierID\": 2, \"CompanyName\": \"New Orleans Cajun Delights\"},\n",
    "    [...]\n",
    "]\n",
    "```\n",
    "Drugi `/suppliers/[id]` ma zwrócić kod `HTTP 200` gdy supplier o podanym ID istnieje, lub `HTTP 404` gdy takowego nie ma. Format danych to:\n",
    "```\n",
    "{\n",
    "    \"SupplierID\": 5,\n",
    "    \"CompanyName\": \"Cooperativa de Quesos 'Las Cabras'\",\n",
    "    \"ContactName\": \"Antonio del Valle Saavedra\",\n",
    "    \"ContactTitle\": \"Export Administrator\",\n",
    "    \"Address\": \"Calle del Rosal 4\",\n",
    "    \"City\": \"Oviedo\",\n",
    "    \"Region\": \"Asturias\",\n",
    "    \"PostalCode\": \"33007\",\n",
    "    \"Country\": \"Spain\",\n",
    "    \"Phone\": \"(98) 598 76 54\",\n",
    "    \"Fax\": None,\n",
    "    \"HomePage\": None,\n",
    "}\n",
    "```"
   ]
  },
  {
   "cell_type": "markdown",
   "id": "72b03fd8-3d64-45a2-bc03-d794a5b608a8",
   "metadata": {},
   "source": [
    "### Zadanie 5.2\n",
    "\n",
    "Kolejny endpoint `/suppliers/[id]/products` również będzie oparty o metodę `GET`. Endpoint ma zwrócić wszystkie produkty posortowane po `ProductID` malejąco, powiązane z danym supplierem. Gdy supplier o podanym ID nie istnieje zwracamy kod `HTTP 404`, w przeciwnym razie oczekiwany kod to `HTTP 200`. Dane mają być zwrócone w następującym formacie:\n",
    "```\n",
    "[\n",
    "    {\n",
    "        \"ProductID\": 29,\n",
    "        \"ProductName\": \"Thüringer Rostbratwurst\",\n",
    "        \"Category\": {\"CategoryID\": 6, \"CategoryName\": \"Meat/Poultry\"},\n",
    "        \"Discontinued\": 1,\n",
    "    },\n",
    "    {\n",
    "        \"ProductID\": 28,\n",
    "        \"ProductName\": \"Rössle Sauerkraut\",\n",
    "        \"Category\": {\"CategoryID\": 7, \"CategoryName\": \"Produce\"},\n",
    "        \"Discontinued\": 1,\n",
    "    },\n",
    "    [...]\n",
    "]\n",
    "```"
   ]
  },
  {
   "cell_type": "markdown",
   "id": "e45fe151-4106-498a-9618-3b0118e41323",
   "metadata": {},
   "source": [
    "### Zadanie 5.3\n",
    "\n",
    "Następny endpoint `/suppliers` tym razem będzie oparty o metodę `POST`. Endpoint ma przyjąć jsona:\n",
    "```\n",
    "{\n",
    "    \"CompanyName\": \"Test Company Name\",\n",
    "    \"ContactName\": \"Test Contact Name\",\n",
    "    \"ContactTitle\": \"Unknown\",\n",
    "    \"Address\": \"Test Address\",\n",
    "    \"City\": \"Test City\",\n",
    "    \"PostalCode\": \"123-123\",\n",
    "    \"Country\": \"Unknown\",\n",
    "    \"Phone\": \"123-123-123\",\n",
    "}\n",
    "```\n",
    "i na bazie tego jsona utworzyć rekord w tabeli `Suppliers`. W nowym rekordzie `Suppliers` wymagany jest tylko `CompanyName`, reszta jest opcjonalna. W zwrotce mamy otrzymać kod `HTTP 201` oraz następujący format danych:\n",
    "```\n",
    "{\n",
    "    \"SupplierID\": 12,\n",
    "    \"CompanyName\": \"Test Company Name\",\n",
    "    \"ContactName\": \"Test Contact Name\",\n",
    "    \"ContactTitle\": \"Unknown\",\n",
    "    \"Address\": \"Test Address\",\n",
    "    \"City\": \"Test City\",\n",
    "    \"PostalCode\": \"123-123\",\n",
    "    \"Country\": \"Unknown\",\n",
    "    \"Phone\": \"123-123-123\",\n",
    "    \"Fax\": None,\n",
    "    \"HomePage\": None,\n",
    "}\n",
    "```"
   ]
  },
  {
   "cell_type": "markdown",
   "id": "d0410d2f-78c3-4d8a-ab17-0d18689519d3",
   "metadata": {},
   "source": [
    "### Zadanie 5.4\n",
    "\n",
    "Skoro mamy już `C` oraz `R`, czas na `U`. Stwórz endpoint `/suppliers/[id]`, oparty o metodę `PUT`. Endpoint oprócz id ma również przyjąć np. takiego jsona:\n",
    "```\n",
    "{\n",
    "    \"CompanyName\": \"New Company Name\",\n",
    "    \"ContactName\": \"New Contact Name\"\n",
    "}\n",
    "```\n",
    "i na bazie tego jsona, zaktualizować rekord o podanym ID w tablicy `Suppliers`. Aktualizujemy tylko te pola, które są podane w otrzymanym jsonie. W zwrotce mamy otrzymać kod `HTTP 200` oraz zaktualizowany rekord w nastepującym formacie danych:\n",
    "```\n",
    "{\n",
    "    \"SupplierID\": 12,\n",
    "    \"CompanyName\": \"New Company Name\",\n",
    "    \"ContactName\": \"New Contact Name\",\n",
    "    \"ContactTitle\": \"Unknown\",\n",
    "    \"Address\": \"Test Address\",\n",
    "    \"City\": \"Test City\",\n",
    "    \"PostalCode\": \"123-123\",\n",
    "    \"Country\": \"Unknown\",\n",
    "    \"Phone\": \"123-123-123\",\n",
    "    \"Fax\": None,\n",
    "    \"HomePage\": None,\n",
    "}\n",
    "```\n",
    "Gdy rekordu o podanym ID nie ma, endpoint ma zwrócić kod `HTTP 401`."
   ]
  },
  {
   "cell_type": "markdown",
   "id": "1c1b5f85-484f-4c68-9212-547f0c24158f",
   "metadata": {},
   "source": [
    "### Zadanie 5.5\n",
    "\n",
    "Pora na ostatni endpoint `D` jak `Delete`. Stwórz endpoint `/suppliers/[id]`, oparty o metodę `DELETE`. Endpoint ma usunąć rekord o podanym ID w tabeli `Suppliers` i zwrócić tylko kod `HTTP 204`. Gdy rekordu o podanym ID nie ma, endpoint ma zwrócić kod `HTTP 401`."
   ]
  },
  {
   "cell_type": "code",
   "execution_count": null,
   "id": "341ef2e1-cc59-4546-86d2-d34e58dd3eb2",
   "metadata": {},
   "outputs": [],
   "source": []
  }
 ],
 "metadata": {
  "kernelspec": {
   "display_name": "Python 3",
   "language": "python",
   "name": "python3"
  },
  "language_info": {
   "codemirror_mode": {
    "name": "ipython",
    "version": 3
   },
   "file_extension": ".py",
   "mimetype": "text/x-python",
   "name": "python",
   "nbconvert_exporter": "python",
   "pygments_lexer": "ipython3",
   "version": "3.8.0"
  }
 },
 "nbformat": 4,
 "nbformat_minor": 5
}
