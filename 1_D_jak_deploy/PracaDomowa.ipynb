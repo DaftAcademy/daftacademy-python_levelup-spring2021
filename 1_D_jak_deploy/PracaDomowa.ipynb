{
 "cells": [
  {
   "cell_type": "markdown",
   "id": "25156e4d",
   "metadata": {},
   "source": [
    "Głównym celem pierwszej pracy domowej jest opublikowanie w Internecie naszej aplikacji napisanej w Pythonie. \n",
    "Pozwoli to nam w dalszych etapach kursu na skupienie się na innych zagadnieniach związanych z web developmentem \n",
    "w języku Python. Podczas wykładu przekazaliśmy wskazówki jak zrobić deploy aplikacji na Heroku.com. \n",
    "Uznajemy więc ten sposób za preferowany. Ocenimy tylko te prace które będą dostępne publicznie."
   ]
  },
  {
   "cell_type": "markdown",
   "id": "1150d64b",
   "metadata": {},
   "source": [
    "#### UWAGA NR 1"
   ]
  },
  {
   "cell_type": "markdown",
   "id": "7cbb1f08",
   "metadata": {},
   "source": [
    "Praca domowa sprawdzana będzie **AUTOMATYCZNIE** dlatego bardzo ważne jest, żeby wasze aplikacje zwracały dokładnie to o co proszono w poleceniu. Jeżeli aplikacja zwróci np. `Hello Wurld!` albo `hello world!` zamiast `Hello World!`, rozwiązanie nie przejdzie testu."
   ]
  },
  {
   "cell_type": "markdown",
   "id": "68cf2d21",
   "metadata": {},
   "source": [
    "#### UWAGA NR 2"
   ]
  },
  {
   "cell_type": "markdown",
   "id": "caef6720",
   "metadata": {},
   "source": [
    "Jako, że wasze aplikacje są hostowane na zewnętrznym hostingu w zadaniach, gdzie mamy taki szablon:"
   ]
  },
  {
   "cell_type": "code",
   "execution_count": null,
   "id": "ca4083eb",
   "metadata": {},
   "outputs": [],
   "source": [
    "class AppClass:\n",
    "    APP_URL=\"\""
   ]
  },
  {
   "cell_type": "markdown",
   "id": "b57b803e",
   "metadata": {
    "tags": []
   },
   "source": [
    "Podajemy tylko adres url aplikacji pomiędzy cudzysłowy."
   ]
  },
  {
   "cell_type": "markdown",
   "id": "6ee71682",
   "metadata": {},
   "source": [
    "### Zadanie 1.1"
   ]
  },
  {
   "cell_type": "markdown",
   "id": "a786552a",
   "metadata": {},
   "source": [
    "Na rozgrzewkę, zacznijmy od czegoś trywialnego. Stwórz endpoint pod główną ścieżką `/`, który zwróci kod `HTTP 200` oraz wiadomość w formacie json:"
   ]
  },
  {
   "cell_type": "code",
   "execution_count": null,
   "id": "ab130491",
   "metadata": {},
   "outputs": [],
   "source": [
    "{\"message\": \"Hello world!\"}"
   ]
  },
  {
   "cell_type": "markdown",
   "id": "46ff4615",
   "metadata": {},
   "source": [
    "### Zadanie 1.2"
   ]
  },
  {
   "cell_type": "markdown",
   "id": "a6b475a7",
   "metadata": {},
   "source": [
    "Drugie zadanie wymaga sprawdzenia czy potraficie rozpoznać metodę requestu. Stwórz endpoint pod ściężką `/method`, która dla jednej z wybranych metod: `GET`, `POST`, `DELETE`, `PUT`, `OPTIONS`, zwróci wiadomość w formacie json z odpowiednią metodą, np:"
   ]
  },
  {
   "cell_type": "code",
   "execution_count": null,
   "id": "d0cd043f",
   "metadata": {},
   "outputs": [],
   "source": [
    "{\"method\": \"GET\"}"
   ]
  },
  {
   "cell_type": "markdown",
   "id": "85057c46",
   "metadata": {},
   "source": [
    "oraz odpowiedni kod HTTP:\n",
    "- dla metod `GET`, `PUT`, `OPTIONS`, `DELETE`: 200\n",
    "- dla metody `POST`: 201"
   ]
  },
  {
   "cell_type": "markdown",
   "id": "b0ef8b09",
   "metadata": {},
   "source": [
    "### Zadanie 1.3"
   ]
  },
  {
   "cell_type": "markdown",
   "id": "b9848c64",
   "metadata": {},
   "source": [
    "Skoro już umiemy zwrócić odpowiedni kod błędu oraz sprawdzić metodę requestu, czas na walidację przychodzących danych. Stwórz endpoint `/auth` dla metody GET, który sprawdzi przychodzące dwa parametry `password` oraz `password_hash`. Jeżeli parametr `password_hash` będzie zawierał zahaszowaną algorytem `sha512` wartość z parametru `password`, wtedy endpoint ma zwrócić kod `HTTP 204`. W pozostałych przypadkach, w tym również pustych wartości tych parametrów, oczekiwany kod HTTP to `401`."
   ]
  },
  {
   "cell_type": "markdown",
   "id": "9b3bf4c4",
   "metadata": {},
   "source": [
    "#### Przykład 1:\n",
    "dla requestu `/auth?password=haslo&password_hash=013c6889f799cd986a735118e1888727d1435f7f623d05d58c61bf2cd8b49ac90105e5786ceaabd62bbc27336153d0d316b2d13b36804080c44aa6198c533215` aplikacja powinna zwrócić kod `HTTP 204`"
   ]
  },
  {
   "cell_type": "markdown",
   "id": "df657f03",
   "metadata": {},
   "source": [
    "#### Przykład 2:\n",
    "dla requestu `/auth?password=haslo&password_hash=f34ad4b3ae1e2cf33092e2abb60dc0444781c15d0e2e9ecdb37e4b14176a0164027b05900e09fa0f61a1882e0b89fbfa5dcfcc9765dd2ca4377e2c794837e091` aplikacja powinna zwrócić kod `HTTP 401`"
   ]
  },
  {
   "cell_type": "markdown",
   "id": "03561d06",
   "metadata": {},
   "source": [
    "### Zadanie 1.4"
   ]
  },
  {
   "cell_type": "markdown",
   "id": "0eb7efd8",
   "metadata": {},
   "source": [
    "Uffff, mamy to! Czas teraz wspomóc rządy państw ze szczepianimi przeciwko Covid 19, dlatego stworzymy prostą aplikację do rejestracji pacjentów na szczepienia. Stwórz endpoint `/register` dla metody `POST`, który przyjmie jsona składającego się z dwóch kluczy `name` oraz `surname`:"
   ]
  },
  {
   "cell_type": "code",
   "execution_count": 1,
   "id": "624e714b",
   "metadata": {},
   "outputs": [
    {
     "data": {
      "text/plain": [
       "{'name': 'Jan', 'surname': 'Kowalski'}"
      ]
     },
     "execution_count": 1,
     "metadata": {},
     "output_type": "execute_result"
    }
   ],
   "source": [
    "{\n",
    "    \"name\": \"Jan\",\n",
    "    \"surname\": \"Kowalski\"\n",
    "}"
   ]
  },
  {
   "cell_type": "markdown",
   "id": "840e9c01",
   "metadata": {},
   "source": [
    "Po przeprocesowaniu inputu, aplikacja ma zwrócić kod HTTP 201 oraz następującego jsona:"
   ]
  },
  {
   "cell_type": "code",
   "execution_count": 2,
   "id": "91dc43c1",
   "metadata": {},
   "outputs": [
    {
     "data": {
      "text/plain": [
       "{'id': 1,\n",
       " 'name': 'Jan',\n",
       " 'surname': 'Nowak',\n",
       " 'register_date': '2021-04-01',\n",
       " 'vaccination_date': '2021-04-09'}"
      ]
     },
     "execution_count": 2,
     "metadata": {},
     "output_type": "execute_result"
    }
   ],
   "source": [
    "{\n",
    "    \"id\": 1,\n",
    "    \"name\": \"Jan\",\n",
    "    \"surname\": \"Nowak\",\n",
    "    \"register_date\": \"2021-04-01\",\n",
    "    \"vaccination_date\": \"2021-04-09\"\n",
    "}"
   ]
  },
  {
   "cell_type": "markdown",
   "id": "6910e5a2",
   "metadata": {},
   "source": [
    "gdzie:\n",
    "- `id` to jest kolejny nadany identyfikator pacjenta\n",
    "- `register_date` to jest data wykonania requestu w formacie YYYY-MM-DD\n",
    "- `vaccination_date` to jest data, która powstaje wg. następującego algorytmu: `register_date` + liczba dni wyrażona w sumarycznej liczbie liter w imieniu oraz nazwisku\n",
    "\n",
    "Należy również pamiętać, aby id zaczynać od `1`."
   ]
  },
  {
   "cell_type": "markdown",
   "id": "f494cd42",
   "metadata": {},
   "source": [
    "### Zadanie 1.5"
   ]
  },
  {
   "cell_type": "markdown",
   "id": "681e8cce",
   "metadata": {},
   "source": [
    "No dobra! Skoro mamy już rejestrację, to czas móc pobrać tę informację. Stwórz endpoint `/patient/{id}` dla metody `GET`, gdzie parametr `id` jest identyfikatorem pacjenta. Jeżeli dany identyfikator istnieje, aplikacja zwraca kod `HTTP 200` oraz następującego jsona:"
   ]
  },
  {
   "cell_type": "code",
   "execution_count": null,
   "id": "6a1187a0",
   "metadata": {},
   "outputs": [],
   "source": [
    "# GET /patient/1\n",
    "\n",
    "{\n",
    "    \"id\": 1,\n",
    "    \"name\": \"Jan\",\n",
    "    \"surname\": \"Nowak\",\n",
    "    \"register_date\": \"2021-04-01\",\n",
    "    \"vaccination_date\": \"2021-04-09\"\n",
    "}"
   ]
  },
  {
   "cell_type": "markdown",
   "id": "b658ea6b",
   "metadata": {},
   "source": [
    "W przypadku gdy `id` nie istnieje, aplikacja ma zwrócić kod `HTTP 404`. Gdy `id` będzie miało wartość mniejszą niż 1, wtedy aplikacja ma zwrócić kod `HTTP 400`."
   ]
  },
  {
   "cell_type": "markdown",
   "id": "46f967e7",
   "metadata": {},
   "source": [
    "#### UWAGA"
   ]
  },
  {
   "cell_type": "markdown",
   "id": "1aebda0b",
   "metadata": {},
   "source": [
    "To zadanie wykorzystuje dane, które będą tworzone wczasie testów poprzez endpoint utworzony we wcześniejszym zadaniu. Aby endpoint `/register` oraz `/patient` korzystały z tego samego cache'a należy aplikację uruchomić tylko na jednym workerze. W tym celu na platformie `Heroku` wystarczy dorzucić flagę `--workers 1` do Procfile'a."
   ]
  }
 ],
 "metadata": {
  "kernelspec": {
   "display_name": "Python 3",
   "language": "python",
   "name": "python3"
  },
  "language_info": {
   "codemirror_mode": {
    "name": "ipython",
    "version": 3
   },
   "file_extension": ".py",
   "mimetype": "text/x-python",
   "name": "python",
   "nbconvert_exporter": "python",
   "pygments_lexer": "ipython3",
   "version": "3.8.0"
  }
 },
 "nbformat": 4,
 "nbformat_minor": 5
}