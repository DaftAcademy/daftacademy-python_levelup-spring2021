{
 "cells": [
  {
   "cell_type": "markdown",
   "metadata": {
    "slideshow": {
     "slide_type": "slide"
    }
   },
   "source": [
    "![Backdrop](https://github.com/daftcode/daftacademy-python_levelup-spring2021/blob/master/background.png?raw=true)"
   ]
  },
  {
   "cell_type": "markdown",
   "metadata": {
    "slideshow": {
     "slide_type": "slide"
    }
   },
   "source": [
    "![Plan kursu](https://github.com/daftcode/daftacademy-python_levelup-spring2021/blob/master/program.png?raw=true)"
   ]
  },
  {
   "cell_type": "markdown",
   "metadata": {
    "slideshow": {
     "slide_type": "slide"
    }
   },
   "source": [
    "# D jak Deploy\n",
    "\n",
    "\n",
    "### Wojciech Łuszczyński\n",
    "### Daft Academy Python level up 2021\n",
    "### Web app, web app deployment, heroku, GitHub & DevOps4Beginners\n",
    "### 14.03.2021"
   ]
  },
  {
   "cell_type": "markdown",
   "metadata": {
    "slideshow": {
     "slide_type": "slide"
    }
   },
   "source": [
    "# 1. Plan działania na dzisiejszy wykład"
   ]
  },
  {
   "cell_type": "markdown",
   "metadata": {
    "slideshow": {
     "slide_type": "fragment"
    }
   },
   "source": [
    "- Ciut teorii\n",
    "- Narzędzia\n",
    "- Napisanie prostej aplikacji webowej z testami\n",
    "- Przechowywanie kodu aplikacji na GitHub\n",
    "- Deployment aplikacji na chmurę Heroku z wykorzystaniem GitHub\n",
    "- Omówienie systemu prac domowych"
   ]
  },
  {
   "cell_type": "markdown",
   "metadata": {
    "slideshow": {
     "slide_type": "slide"
    }
   },
   "source": [
    "# 2. Teoria"
   ]
  },
  {
   "cell_type": "markdown",
   "metadata": {
    "slideshow": {
     "slide_type": "subslide"
    }
   },
   "source": [
    "## 2.1 Aplikacja webowa"
   ]
  },
  {
   "cell_type": "markdown",
   "metadata": {
    "slideshow": {
     "slide_type": "fragment"
    }
   },
   "source": [
    "- Aplikacją webową nazwiemy program działający w modelu klient-serwer;\n",
    "- Klientem będzie najczęściej przeglądarka (ale może to być też np. inna aplikacja);\n",
    "- Serwerem zaś będzie serwer aplikacji webowej, który nasłuchuje na połączenia na wybranych portach (zazwyczaj 80 lub 443);\n",
    "- Klient z serwerem komunikują się za pomocą protokołu HTTP."
   ]
  },
  {
   "cell_type": "markdown",
   "metadata": {
    "slideshow": {
     "slide_type": "subslide"
    }
   },
   "source": [
    "### 2.1.1 Protokół HTTP"
   ]
  },
  {
   "cell_type": "markdown",
   "metadata": {
    "slideshow": {
     "slide_type": "fragment"
    }
   },
   "source": [
    "- Bezstanowy\n",
    "- Połączenie inicjuje klient\n",
    "- Korzysta z protokołu TCP\n",
    "- Tekstowy, zawartości zapytania określa nagłówek `Content-Type`"
   ]
  },
  {
   "cell_type": "markdown",
   "metadata": {
    "slideshow": {
     "slide_type": "subslide"
    }
   },
   "source": [
    "### 2.1.2 Request HTTP"
   ]
  },
  {
   "cell_type": "markdown",
   "metadata": {
    "slideshow": {
     "slide_type": "fragment"
    }
   },
   "source": [
    "```INI\n",
    "METODA URL WERSJA_HTTP\n",
    "<opcojanlne> NAGŁÓWKI\n",
    "<pusta linia>\n",
    "<opcjonalna> TREŚĆ_ZAPYTANIA\n",
    "```"
   ]
  },
  {
   "cell_type": "markdown",
   "metadata": {
    "slideshow": {
     "slide_type": "fragment"
    }
   },
   "source": [
    "Przykładowy Request logowania wysłany do serwera w postaci JSONa\n",
    "\n",
    "```INI\n",
    "POST /login HTTP/1.1\n",
    "Host: www.example.com\n",
    "User-Agent: Mozilla/5.0\n",
    "Content-Length: 39\n",
    "Content-Type: application/json\n",
    "```\n",
    "```JSON\n",
    "{\"login\":\"daft\",\"password\":\"zexaeRL5PoeBsGYJ\"}\n",
    "```"
   ]
  },
  {
   "cell_type": "markdown",
   "metadata": {
    "slideshow": {
     "slide_type": "subslide"
    }
   },
   "source": [
    "## 2.2 Metody HTTP - te najczęściej używane"
   ]
  },
  {
   "cell_type": "markdown",
   "metadata": {
    "slideshow": {
     "slide_type": "fragment"
    }
   },
   "source": [
    "Źródło: https://tools.ietf.org/html/rfc7231\n",
    "\n",
    "- **GET** - pobranie zasobu;\n",
    "- **POST** - przesyłanie danych od klienta do serwera, najczęściej służy do stworzenia zasobu;\n",
    "- DELETE - żądanie usunięcia zasobu;\n",
    "- PUT - przesyłanie danych od klienta do serwera, najczęściej służy do zastąpienia w całości istniejącego zasobu;\n",
    "- PATCH - przesyłanie danych od klienta do serwera, najczęściej służy do częściowej aktualizacji istniejącego zasobu.\n"
   ]
  },
  {
   "cell_type": "markdown",
   "metadata": {
    "slideshow": {
     "slide_type": "subslide"
    }
   },
   "source": [
    "## 2.3 Pozostałe metody HTTP"
   ]
  },
  {
   "cell_type": "markdown",
   "metadata": {
    "slideshow": {
     "slide_type": "fragment"
    }
   },
   "source": [
    "- HEAD - pobranie nagłówków dla danego zasobu\n",
    "- OPTIONS - żądanie informacji o metodach dostępnych dla danego zasobu\n",
    "- CONNECT - wykorzystane w trakcie tunelowania z użyciem serwerów pośredniczących\n",
    "- TRACE - służy do diagnostyki"
   ]
  },
  {
   "cell_type": "markdown",
   "metadata": {
    "slideshow": {
     "slide_type": "fragment"
    }
   },
   "source": [
    "Ale to nie wszystko: http://www.iana.org/assignments/http-methods/http-methods.xhtml"
   ]
  },
  {
   "cell_type": "markdown",
   "metadata": {
    "slideshow": {
     "slide_type": "subslide"
    }
   },
   "source": [
    "## 2.4 URL"
   ]
  },
  {
   "cell_type": "markdown",
   "metadata": {
    "slideshow": {
     "slide_type": "fragment"
    }
   },
   "source": [
    "### 2.4.1 Schema adresu URL"
   ]
  },
  {
   "cell_type": "markdown",
   "metadata": {
    "slideshow": {
     "slide_type": "fragment"
    }
   },
   "source": [
    "```\n",
    "scheme:[//[user[:password]@]host[:port]][/path][?query][#fragment]\n",
    "```"
   ]
  },
  {
   "cell_type": "markdown",
   "metadata": {
    "slideshow": {
     "slide_type": "fragment"
    }
   },
   "source": [
    "### 2.4.2 Szczegółowa struktura URL"
   ]
  },
  {
   "cell_type": "markdown",
   "metadata": {
    "slideshow": {
     "slide_type": "fragment"
    }
   },
   "source": [
    "```md\n",
    ".  https://www.jakis-serwer.pl:8080/a/b/file?var1=1&var2=test&_var3=&__var4#fragment_dokumentu\n",
    "   \\___/   \\_________________/\\___/\\_______/ \\____________________________/ \\________________/\n",
    "     |             |            |      |                  |                         |\n",
    "  schemat        host         port   path           querystring                 fragment\n",
    "(protokół)   (nazwa serwera)                                                     (hash)\n",
    "```"
   ]
  },
  {
   "cell_type": "markdown",
   "metadata": {
    "slideshow": {
     "slide_type": "fragment"
    }
   },
   "source": [
    "- URI ma swoją maksymalną długość zależną od klienta HTTP/servera/proxy itp. np. IE obsługuję max 2,083 znaków\n",
    "- Kodowaniem znaków dla URI jest standard ASCI\n",
    "- Znaki __!\t*\t'\t(\t)\t;\t:\t@\t&\t=\t+\t$\t,\t/\t?\t#\t[\t]__  są znakami zarezerwowanymi i muszą być escapowane (RFC 3986)\n",
    "- Escapowanie odbywa się na podstawie kodowania znaków w przeglądarce (dla HTML5 jest to UTF-8)\n",
    "- Escapujemy znakiem __%__ po którym następuje nr znaku ASCII np \"__%__\"\t->\t\"__%25__\""
   ]
  },
  {
   "cell_type": "markdown",
   "metadata": {
    "slideshow": {
     "slide_type": "subslide"
    }
   },
   "source": [
    "### 2.4.3 Dokumentacja"
   ]
  },
  {
   "cell_type": "markdown",
   "metadata": {
    "slideshow": {
     "slide_type": "fragment"
    }
   },
   "source": [
    "Dokumentacja URI\n",
    "1. URI RFC: https://tools.ietf.org/html/rfc2396\n",
    "2. Kodowanie procentowe RFC: https://tools.ietf.org/html/rfc3986 \n",
    "3. Przydatna tabela kodowania: https://www.w3schools.com/tags/ref_urlencode.ASP\n",
    "4. Wiki dla leniwych: https://en.wikipedia.org/wiki/Uniform_Resource_Identifier"
   ]
  },
  {
   "cell_type": "markdown",
   "metadata": {
    "slideshow": {
     "slide_type": "subslide"
    }
   },
   "source": [
    "### 2.5 Wersje HTTP"
   ]
  },
  {
   "cell_type": "markdown",
   "metadata": {
    "slideshow": {
     "slide_type": "fragment"
    }
   },
   "source": [
    "- HTTP/0.9 (rok 1991)\n",
    "- HTTP/1.0 (rok 1996)\n",
    "- HTTP/1.1 (rok 1997) <- Do tej pory najszerzej wykorzystywana wersja\n",
    "- HTTP/2.0 (rok 2015) https://tools.ietf.org/html/rfc7540"
   ]
  },
  {
   "cell_type": "markdown",
   "metadata": {
    "slideshow": {
     "slide_type": "subslide"
    }
   },
   "source": [
    "## 2.6 Nagłówki HTTP"
   ]
  },
  {
   "cell_type": "markdown",
   "metadata": {
    "slideshow": {
     "slide_type": "fragment"
    }
   },
   "source": [
    "- Jak już wspominaliśmy każde zapytanie do serwera HTTP można podzielić na __HEADER__y oraz na __BODY__\n",
    "- Nagłówki niosą tak samo ważne informacje dla serwera jak i treść samego zapytania\n",
    "- Ilość Headerów jest dowolna ale są limity dotyczące sumarycznej długości wszystkich znaków w sekcji nagłówków i zależy to w dużej mierze od serwera HTTP.\n",
    "    - Apache 2.0, 2.2: 8K\n",
    "    - nginx: 4K - 8K\n",
    "    - IIS: 8K - 16K (zależy od wersji)\n",
    "    - Tomcat: 8K - 48K (zależy od wersji)"
   ]
  },
  {
   "cell_type": "markdown",
   "metadata": {
    "slideshow": {
     "slide_type": "subslide"
    }
   },
   "source": [
    "### 2.6.1 Budowa nagłówka"
   ]
  },
  {
   "cell_type": "markdown",
   "metadata": {
    "slideshow": {
     "slide_type": "fragment"
    }
   },
   "source": [
    "```md\n",
    " Header-Name: content; parameter_1=DATA; param2; param_n=xxx\n",
    " \\_________/ \\______/ \\_______________/  \\____/  \\_________/\n",
    "      |         |            |              |         |\n",
    "   Header   zawartość   nazwa i wartość  atrybut  nazwa i wartość \n",
    "            nagłówka      atrybutu       boolean    atrybutu\n",
    "                                          True\n",
    "```"
   ]
  },
  {
   "cell_type": "markdown",
   "metadata": {
    "slideshow": {
     "slide_type": "fragment"
    }
   },
   "source": [
    "- Nagłówek rozpoczyna nazwa i kończy znak nowej linii\n",
    "- Wielkość znaków w nazwie nagłówka czy nazw parametrów nie ma znaczenia\n",
    "- Zawartość nagłówka zawiera się pomiędzy __\":\"__ a pierwszym wystąpieniem znaku __\";\"__\n",
    "- Atrybuty nagłówka są opcjonalne i następują po znaku __\";\"__\n",
    "- Atrybuty nie muszą mieć wartości, wtedy po prostu ich obecność oznacza opcję, zwyczajowo `True`"
   ]
  },
  {
   "cell_type": "markdown",
   "metadata": {
    "slideshow": {
     "slide_type": "subslide"
    }
   },
   "source": [
    "### 2.6.2 Najczęściej występujące nagłówki (które nas interesują)"
   ]
  },
  {
   "cell_type": "markdown",
   "metadata": {
    "slideshow": {
     "slide_type": "fragment"
    }
   },
   "source": [
    "- Host\n",
    "- User-Agent\n",
    "- Content-Type\n",
    "- Cookie"
   ]
  },
  {
   "cell_type": "markdown",
   "metadata": {
    "slideshow": {
     "slide_type": "fragment"
    }
   },
   "source": [
    "Do doczytania: https://pl.wikipedia.org/wiki/Lista_nag%C5%82%C3%B3wk%C3%B3w_HTTP"
   ]
  },
  {
   "cell_type": "markdown",
   "metadata": {
    "slideshow": {
     "slide_type": "subslide"
    }
   },
   "source": [
    "### 2.6.3 Szczegóły nagłówka na przykładzie content-type: MIME Types"
   ]
  },
  {
   "cell_type": "markdown",
   "metadata": {
    "slideshow": {
     "slide_type": "fragment"
    }
   },
   "source": [
    "- Nagłówek typu treści w zapytaniu/odpowiedzi `content-type`\n",
    "- MIME (Multipurpose Internet Mail Extensions)\n",
    "- Typy MIME na początku były częścią protokołu pocztowego SMTP ale są tak dobrze przemyślane i popularne że są podstawowymi składowymi protokołów takich jak HTTP czy SIP\n",
    "- W HTTP mime typ określa rodzaj zawartości wewnątrz wiadomości.\n",
    "    - zawsze składa się z 2 części rozdzielonych ukośnikiem\n",
    "    - typy MIME są standaryzowane\n",
    "    - niestandaryzowane podtypy zaczynające się od `x-` \n",
    "    - Przykład nagłówka HTTP przekazującego typ MIME\n",
    "        - ```Content-Type: application/json; charset=utf-8```\n",
    "    - Typy tekstowe mogą zawierać parametr `charset` określający kodowanie znaków\n",
    "    - Inne typy też mogą zawierać parametry np: Multipart __boundry__ (reszta w RFC)"
   ]
  },
  {
   "cell_type": "markdown",
   "metadata": {
    "slideshow": {
     "slide_type": "subslide"
    }
   },
   "source": [
    "## 2.7 Response HTTP"
   ]
  },
  {
   "cell_type": "markdown",
   "metadata": {
    "slideshow": {
     "slide_type": "fragment"
    }
   },
   "source": [
    "```INI\n",
    "WERSJA_HTTP STATUS_HTTP OPIS_STATUSU\n",
    "<opcjonalne> NAGŁÓWKI\n",
    "<pusta linia>\n",
    "<opcjonalna> TREŚĆ_ODPOWIEDZI\n",
    "```"
   ]
  },
  {
   "cell_type": "markdown",
   "metadata": {
    "slideshow": {
     "slide_type": "fragment"
    }
   },
   "source": [
    "### 2.7.1 Przykładowy response po zalogowaniu użytkownika do \"jakiegoś\" serwisu "
   ]
  },
  {
   "cell_type": "markdown",
   "metadata": {
    "slideshow": {
     "slide_type": "fragment"
    }
   },
   "source": [
    "```INI\n",
    "HTTP/1.1 200 OK\n",
    "Date: Wed, 11 Feb 2258 23:11:55 GMT\n",
    "Content-Type: text/html; charset=UTF-8\n",
    "Content-Length: 138\n",
    "Last-Modified: Wed, 11 Feb 2258 23:11:55 GMT\n",
    "Server: Apache/1.3.3.7 (Unix) (Red-Hat/Linux)\n",
    "ETag: \"3f80f-1b6-3e1cb03b\"\n",
    "Accept-Ranges: bytes\n",
    "Connection: close\n",
    "```"
   ]
  },
  {
   "cell_type": "markdown",
   "metadata": {
    "slideshow": {
     "slide_type": "fragment"
    }
   },
   "source": [
    "```HTML\n",
    "<html>\n",
    "<head>\n",
    "  <title>Wasted</title>\n",
    "</head>\n",
    "<body>\n",
    "  Wake the duck up Samurai. We have a city to burn.\n",
    "</body>\n",
    "</html>\n",
    "```"
   ]
  },
  {
   "cell_type": "markdown",
   "metadata": {
    "slideshow": {
     "slide_type": "subslide"
    }
   },
   "source": [
    "### 2.7.3 Response status code"
   ]
  },
  {
   "cell_type": "markdown",
   "metadata": {
    "slideshow": {
     "slide_type": "fragment"
    }
   },
   "source": [
    "- Kody statusów:\n",
    "  - 1XX - Informacyjne\n",
    "  - 2XX - Sukces(y)\n",
    "  - 3XX - Przekierowania\n",
    "  - 4XX - Błędy klienta\n",
    "  - 5XX - Błędy serwera"
   ]
  },
  {
   "cell_type": "markdown",
   "metadata": {
    "slideshow": {
     "slide_type": "fragment"
    }
   },
   "source": [
    "- Najczęstszym kodem odpowiedzi na GET będzie status 200 świadczący o tym że dostaliśmy poprawną odpowiedź\n",
    "- Dla zapytania POST najczęściej dostaniemy kod 200, ale przy najprostszych stronach zapytanie niosące dane formularza, inicjowana przez standardowy formularz HTML przekieruje (302) użytkownika na stronę z  rezultatem dodania zasobu\n",
    "- Dla zapoznania się z kodami odpowiedzi warto przeczytać dokument RFC 7231 (https://tools.ietf.org/html/rfc7231) w którym autor opisuje standardową komunikację z serwerem HTTP na podstawie kodów odpowiedzi na poszczególne typy zapytań"
   ]
  },
  {
   "cell_type": "markdown",
   "metadata": {
    "slideshow": {
     "slide_type": "slide"
    }
   },
   "source": [
    "# 3. Narzędzia - Czego będziemy używać w trakcie tego kursu"
   ]
  },
  {
   "cell_type": "markdown",
   "metadata": {
    "slideshow": {
     "slide_type": "subslide"
    }
   },
   "source": [
    "## 3.1. Język programowania"
   ]
  },
  {
   "cell_type": "markdown",
   "metadata": {
    "slideshow": {
     "slide_type": "fragment"
    }
   },
   "source": [
    "To jest kurs `python` więc będziemy używać najnowszej wersji `python`"
   ]
  },
  {
   "cell_type": "markdown",
   "metadata": {
    "slideshow": {
     "slide_type": "fragment"
    }
   },
   "source": [
    "Najnowsza wersja w czasie  tego wykładu **kwiecień 2021** to `3.9.4`"
   ]
  },
  {
   "cell_type": "markdown",
   "metadata": {
    "slideshow": {
     "slide_type": "fragment"
    }
   },
   "source": [
    "Kurs wymaga deploymentu aplikacji webowej na HEROKU a prace domowe serwisu Coderooms których aktualne wersje `python` to:\n",
    "- Heroku `3.8.7`\n",
    "- Coderoom `3.8.6`\n",
    "\n",
    "Stąd decyzja po prowadzeniu kursu w python `3.8`\n",
    "\n",
    "Osoby posiadające MacBook z procesorem M1 będą używać python `3.9.4` Nie powinno to nic zmieniać"
   ]
  },
  {
   "cell_type": "markdown",
   "metadata": {
    "slideshow": {
     "slide_type": "subslide"
    }
   },
   "source": [
    "## 3.2 Framework webowy"
   ]
  },
  {
   "cell_type": "markdown",
   "metadata": {
    "slideshow": {
     "slide_type": "subslide"
    }
   },
   "source": [
    "Jest wiele możliwych frameworków np:\n",
    "- Django\n",
    "- Flask\n",
    "- Pyramid\n",
    "- Tornado\n",
    "- Bottle\n",
    "- Starlette\n",
    "- **Fastapi**\n"
   ]
  },
  {
   "cell_type": "markdown",
   "metadata": {
    "slideshow": {
     "slide_type": "subslide"
    }
   },
   "source": [
    "Do tego kursu wybraliśmy `Fastapi`, ponieważ:\n",
    "- jest w miarę nowe\n",
    "- korzysta z nowoczesnych rozwiązań w python\n",
    "- ma jasną i przejżystą dokumentację z przykładami\n",
    "- jest proste w użyciu\n",
    "- nie jest nadmiernie rozbudowane jak np `Django`"
   ]
  },
  {
   "cell_type": "markdown",
   "metadata": {
    "slideshow": {
     "slide_type": "subslide"
    }
   },
   "source": [
    "## 3.3 Framework testowy"
   ]
  },
  {
   "cell_type": "markdown",
   "metadata": {
    "slideshow": {
     "slide_type": "fragment"
    }
   },
   "source": [
    "Tu nie ma wielkiego wyboru - fastapi zaleca pytest.\n",
    "- Nie ma potrzeby wyważać otwartych drzwi\n",
    "- Konsekwencja. Uczyliśmy się `pytest` przy okazji DaftAcademy 4 Beginners\n",
    "- Poza tym pytest to naprawdę dobry framework do testów, znacznie przyjemniejszy od tego wbudowanego w bibliotekę standardową"
   ]
  },
  {
   "cell_type": "markdown",
   "metadata": {
    "slideshow": {
     "slide_type": "subslide"
    }
   },
   "source": [
    "## 3.4 Hosting"
   ]
  },
  {
   "cell_type": "markdown",
   "metadata": {
    "slideshow": {
     "slide_type": "fragment"
    }
   },
   "source": [
    "Hosting będzie nam potrzebny do prac domowch. Każda aplikacja będzie musiała znaleźć się na jakimś serwerze pod dostępnym zewnętrznie adresem"
   ]
  },
  {
   "cell_type": "markdown",
   "metadata": {
    "slideshow": {
     "slide_type": "fragment"
    }
   },
   "source": [
    "Jest wiele darmowych hostingów, ale my przez większość zajęć będziemy używać `Heroku`\n",
    "- jest niesamowicie łatwe w użyciu na początku prac z deploymentem aplikacji webowych\n",
    "- przy niskim poziomie użycia jest z darmo (niewielka aplikacja, niewiele requestów)"
   ]
  },
  {
   "cell_type": "markdown",
   "metadata": {
    "slideshow": {
     "slide_type": "fragment"
    }
   },
   "source": [
    "Do prac domowych można używać dowolnych hostingów, jeśli z jakiś powodów `Heroku` nie odpowiada prefernecją, można wykorztstać dowolny hosting o ile pozwoli na dostęp do aplikacji."
   ]
  },
  {
   "cell_type": "markdown",
   "metadata": {
    "slideshow": {
     "slide_type": "subslide"
    }
   },
   "source": [
    "## 3.5 Repozytorium"
   ]
  },
  {
   "cell_type": "markdown",
   "metadata": {
    "slideshow": {
     "slide_type": "fragment"
    }
   },
   "source": [
    "Jest wiele możliwości nawet wśród darmowych.\n",
    "`Heroku` ma bardzo dobrą integrację z GitHub więc tego użyjemy."
   ]
  },
  {
   "cell_type": "markdown",
   "metadata": {
    "slideshow": {
     "slide_type": "fragment"
    }
   },
   "source": [
    "Posiadanie swojego kodu w repozytorium nie jest wymogiem kursu niemniej jest bardzo pomocne i gorąco zachęcamy do korzystania."
   ]
  },
  {
   "cell_type": "markdown",
   "metadata": {
    "slideshow": {
     "slide_type": "subslide"
    }
   },
   "source": [
    "## 3.6 Narzędzie do sprawdzania prac domowych."
   ]
  },
  {
   "cell_type": "markdown",
   "metadata": {
    "slideshow": {
     "slide_type": "fragment"
    }
   },
   "source": [
    "- Użwamy Cooderooms.com\n",
    "- Każdy uczestnik kursu dostanie zaproszenie na tę platformę\n",
    "- Prośba o korzystanie z **tego samego adresu email** jak w przypadku rejestracji do DaftAcademy.\n",
    "- Problemy wynikające z użycia innego adresu email to przede wszystkim nieprzypisanie punktów za prace domowe do konta DaftAcademy.\n",
    "- Prace domowe pojawią się w serwisie CodeRooms po zakończeniu wykładu\n",
    "- Zaproszenie do udziału w pracach domowych zostało wysłane na adres uczestnika z portalu DaftAcademy\n",
    "- W jedym classroom jest 50 uczestników\n",
    "    - prosimy dopsiać się do classroom do którego prowadzi zaproszenie przesłane drogą mailową"
   ]
  },
  {
   "cell_type": "markdown",
   "metadata": {
    "slideshow": {
     "slide_type": "slide"
    }
   },
   "source": [
    "# 4 Prosta Aplikacja Webowa w FastApi"
   ]
  },
  {
   "cell_type": "markdown",
   "metadata": {
    "slideshow": {
     "slide_type": "subslide"
    }
   },
   "source": [
    "## 4.1. Przygotowanie środowiska wirtualnego"
   ]
  },
  {
   "cell_type": "markdown",
   "metadata": {
    "slideshow": {
     "slide_type": "fragment"
    }
   },
   "source": [
    "Przechodzimy do katalogu, w którym chcemy trzymać wirtualne środowisko i uruchamiamy:\n",
    "\n",
    "```bash\n",
    "python3.8 -m venv nazwa_virtual_env\n",
    "```"
   ]
  },
  {
   "cell_type": "markdown",
   "metadata": {
    "slideshow": {
     "slide_type": "fragment"
    }
   },
   "source": [
    "Katalog `nazwa_virtual_env` zawiera naszą lokalną kopię python oraz wszelkie zależności."
   ]
  },
  {
   "cell_type": "markdown",
   "metadata": {
    "slideshow": {
     "slide_type": "subslide"
    }
   },
   "source": [
    "### 4.1.1 Aktywowanie środowiska wirtualnego:"
   ]
  },
  {
   "cell_type": "markdown",
   "metadata": {
    "slideshow": {
     "slide_type": "fragment"
    }
   },
   "source": [
    "Żeby używać środowiska wirtualnego to musimy je \"aktywować\" - zmienić kontekst wykonania w naszej konsoli tak by korzystać z lokalnych zależności, zamias zależności globanych (systemowych)\n",
    "\n",
    "Aktywacja zmienia zmienną między innymi środowiskową \"PATH\" dzięki której domyślnym inrepreterem python jest ten z naszego wirtualnego środowiska"
   ]
  },
  {
   "cell_type": "markdown",
   "metadata": {
    "slideshow": {
     "slide_type": "fragment"
    }
   },
   "source": [
    "Ubuntu / Mac OS:\n",
    "```bash\n",
    "source nazwa_virtual_env/bin/activate\n",
    "```"
   ]
  },
  {
   "cell_type": "markdown",
   "metadata": {
    "slideshow": {
     "slide_type": "fragment"
    }
   },
   "source": [
    "Windows:\n",
    "```\n",
    "nazwa_virtual_env\\Scripts\\activate.bat\n",
    "```"
   ]
  },
  {
   "cell_type": "markdown",
   "metadata": {
    "slideshow": {
     "slide_type": "fragment"
    }
   },
   "source": [
    "Po udanej aktywacji powinniśmy zobaczyć na początku nowej linii `(nazwa_virtual_env)`. Oznacza to, że w tej konsoli możemy korzystać z bibliotek w podanym środowisku wirtualnym."
   ]
  },
  {
   "cell_type": "markdown",
   "metadata": {
    "slideshow": {
     "slide_type": "subslide"
    }
   },
   "source": [
    "## 4.2 Instalacja zależności"
   ]
  },
  {
   "cell_type": "markdown",
   "metadata": {
    "slideshow": {
     "slide_type": "fragment"
    }
   },
   "source": [
    "W konsoli z włączonym odpowiednim virtualenv wpisujemy:\n",
    "\n",
    "```bash\n",
    "pip install fastapi[all]\n",
    "```"
   ]
  },
  {
   "cell_type": "markdown",
   "metadata": {
    "slideshow": {
     "slide_type": "fragment"
    }
   },
   "source": [
    "Zostanie zainstalowane fastapi ze wszystkimi zależnościami.\n",
    "Chwilę to zajmie."
   ]
  },
  {
   "cell_type": "markdown",
   "metadata": {
    "slideshow": {
     "slide_type": "fragment"
    }
   },
   "source": [
    "Zobaczmy co zostało zainstalowane:\n",
    "```bash\n",
    "pip freeze\n",
    "```"
   ]
  },
  {
   "cell_type": "markdown",
   "metadata": {
    "slideshow": {
     "slide_type": "fragment"
    }
   },
   "source": [
    "Przygotowanie pliku z zależnościami\n",
    "\n",
    "```bash\n",
    "pip freeze > requirements.txt\n",
    "```\n"
   ]
  },
  {
   "cell_type": "markdown",
   "metadata": {
    "slideshow": {
     "slide_type": "fragment"
    }
   },
   "source": [
    "Plik `requirements.txt` zawiera zależności potrzebne do uruchomienia naszego projektu. Będzie nam potrzebny później. Ale póki co zobaczmy co jest w środku."
   ]
  },
  {
   "cell_type": "markdown",
   "metadata": {
    "slideshow": {
     "slide_type": "subslide"
    }
   },
   "source": [
    "## 4.3. Pierwsze aplikacja w FastAPI"
   ]
  },
  {
   "cell_type": "code",
   "execution_count": 4,
   "metadata": {
    "slideshow": {
     "slide_type": "fragment"
    }
   },
   "outputs": [],
   "source": [
    "# main.py"
   ]
  },
  {
   "cell_type": "code",
   "execution_count": 5,
   "metadata": {
    "slideshow": {
     "slide_type": "fragment"
    }
   },
   "outputs": [],
   "source": [
    "from fastapi import FastAPI\n",
    "\n",
    "app = FastAPI()\n",
    "\n",
    "@app.get(\"/\")\n",
    "def root():\n",
    "    return {\"message\": \"Hello World\"}"
   ]
  },
  {
   "cell_type": "markdown",
   "metadata": {
    "slideshow": {
     "slide_type": "subslide"
    }
   },
   "source": [
    "### 4.3.1 Uruchamiamy serwer HTTP `uvicorn`"
   ]
  },
  {
   "cell_type": "markdown",
   "metadata": {
    "slideshow": {
     "slide_type": "fragment"
    }
   },
   "source": [
    "```bash\n",
    "uvicorn main:app\n",
    "```"
   ]
  },
  {
   "cell_type": "markdown",
   "metadata": {
    "slideshow": {
     "slide_type": "fragment"
    }
   },
   "source": [
    "- `uvicorn` to serwer HTTP który \"pośredniczy\" pomiędzy klientem HTTP (przeglądarką) a aplikacją wystawiającą protokół WSGI"
   ]
  },
  {
   "cell_type": "markdown",
   "metadata": {
    "slideshow": {
     "slide_type": "fragment"
    }
   },
   "source": [
    "Przejdźmy pod adresy które wystawia nasza aplikacja:\n",
    "```\n",
    "http://127.0.0.1:8000\n",
    "```\n",
    "\n"
   ]
  },
  {
   "cell_type": "markdown",
   "metadata": {
    "slideshow": {
     "slide_type": "fragment"
    }
   },
   "source": [
    "- Oraz ares automatycznej dokumentacji projektu\n",
    "```\n",
    "http://127.0.0.1:8000/docs\n",
    "```"
   ]
  },
  {
   "cell_type": "markdown",
   "metadata": {
    "slideshow": {
     "slide_type": "subslide"
    }
   },
   "source": [
    "## 4.4 Testy"
   ]
  },
  {
   "cell_type": "markdown",
   "metadata": {
    "slideshow": {
     "slide_type": "fragment"
    }
   },
   "source": [
    "Podstawą przy pisaniu współczesnych aplikacji jest pisanie do nich testów automatycznych"
   ]
  },
  {
   "cell_type": "markdown",
   "metadata": {
    "slideshow": {
     "slide_type": "subslide"
    }
   },
   "source": [
    "### 4.1.1 Framework Testowy"
   ]
  },
  {
   "cell_type": "markdown",
   "metadata": {
    "slideshow": {
     "slide_type": "fragment"
    }
   },
   "source": [
    "Musimy najpierw doinstalować zależności - czyli `pytest`"
   ]
  },
  {
   "cell_type": "markdown",
   "metadata": {
    "slideshow": {
     "slide_type": "fragment"
    }
   },
   "source": [
    "```bash\n",
    "pip install pytest\n",
    "```"
   ]
  },
  {
   "cell_type": "markdown",
   "metadata": {
    "slideshow": {
     "slide_type": "fragment"
    }
   },
   "source": [
    "Do uruchamiania testów potrzebujemy:\n",
    "```ini\n",
    "pytest\n",
    "requests\n",
    "```"
   ]
  },
  {
   "cell_type": "markdown",
   "metadata": {
    "slideshow": {
     "slide_type": "subslide"
    }
   },
   "source": [
    "### 4.1.2 Testcases"
   ]
  },
  {
   "cell_type": "code",
   "execution_count": 6,
   "metadata": {
    "slideshow": {
     "slide_type": "fragment"
    }
   },
   "outputs": [],
   "source": [
    "# tests.py"
   ]
  },
  {
   "cell_type": "markdown",
   "metadata": {
    "slideshow": {
     "slide_type": "fragment"
    }
   },
   "source": [
    "```python\n",
    "from fastapi.testclient import TestClient\n",
    "\n",
    "from main import app\n",
    "\n",
    "client = TestClient(app)\n",
    "\n",
    "\n",
    "def test_read_main():\n",
    "    response = client.get(\"/\")\n",
    "    assert response.status_code == 200\n",
    "    assert response.json() == {\"message\": \"Hello World\"}\n",
    "```"
   ]
  },
  {
   "cell_type": "markdown",
   "metadata": {
    "slideshow": {
     "slide_type": "fragment"
    }
   },
   "source": [
    "Uruchomienie testów (z katalogu z aplikacją), z virtualenv z zainstalowanymi wszystkim zależnościami:\n",
    "```bash\n",
    "pytest\n",
    "```"
   ]
  },
  {
   "cell_type": "markdown",
   "metadata": {
    "slideshow": {
     "slide_type": "subslide"
    }
   },
   "source": [
    "### 4.1.3 Dokumentacja"
   ]
  },
  {
   "cell_type": "markdown",
   "metadata": {},
   "source": [
    "- testowanie fastapi: https://fastapi.tiangolo.com/tutorial/testing/\n",
    "- przykłdy użycia pytest: https://docs.pytest.org/en/latest/example/index.html"
   ]
  },
  {
   "cell_type": "markdown",
   "metadata": {
    "slideshow": {
     "slide_type": "slide"
    }
   },
   "source": [
    "# 5 Repozytorium"
   ]
  },
  {
   "cell_type": "markdown",
   "metadata": {
    "slideshow": {
     "slide_type": "fragment"
    }
   },
   "source": [
    "- Tworzymy (publiczne - dla pracy domowej) repo w github: https://github.com/new\n",
    "- klonujemy repozytorium\n",
    "- dodajemy pliki naszego projektu do commita\n",
    "    - main.py - kod aplikacji\n",
    "    - requirements.txt - spis zależności\n",
    "- commitujemu i wypychamy na repo"
   ]
  },
  {
   "cell_type": "markdown",
   "metadata": {
    "slideshow": {
     "slide_type": "fragment"
    }
   },
   "source": [
    "Dla osób które nie czują się za dobrze z GITem, polecamy książkę:\n",
    "- https://git-scm.com/book/en/v2"
   ]
  },
  {
   "cell_type": "markdown",
   "metadata": {
    "slideshow": {
     "slide_type": "slide"
    }
   },
   "source": [
    "# 6 Deployment"
   ]
  },
  {
   "cell_type": "markdown",
   "metadata": {
    "slideshow": {
     "slide_type": "fragment"
    }
   },
   "source": [
    "Heroku jako usługa do hostowania wielu różnych projektów w wielu językach programowani do poprawnego działania potrzebuje informacji o tym jakim interpreterem uruchomimy nasz program oraz gdzie główny plik wejściowy dla aplikacji się znajduje"
   ]
  },
  {
   "cell_type": "markdown",
   "metadata": {
    "slideshow": {
     "slide_type": "subslide"
    }
   },
   "source": [
    "- dodajemy dodatkowe pliki do naszego GITowego repozytorium na branchu main\n",
    "    - Procfile - heroku specific, żeby heroku wiedziało jak ma uruchomić naszą aplikację\n",
    "    - runtime.txt - heroku specific, żeby heroku wiedziało której wersji python użyć"
   ]
  },
  {
   "cell_type": "markdown",
   "metadata": {
    "slideshow": {
     "slide_type": "fragment"
    }
   },
   "source": [
    "`runtime.txt`\n",
    "```\n",
    "python-3.8.7\n",
    "```"
   ]
  },
  {
   "cell_type": "markdown",
   "metadata": {
    "slideshow": {
     "slide_type": "fragment"
    }
   },
   "source": [
    "`Procfile`\n",
    "```\n",
    "web: uvicorn main:app --host=0.0.0.0 --port=${PORT:-5000}\n",
    "```"
   ]
  },
  {
   "cell_type": "markdown",
   "metadata": {
    "slideshow": {
     "slide_type": "subslide"
    }
   },
   "source": [
    "- zakładamy konto na heroku\n",
    "- tworzymy noweą aplikacji na heroku: https://dashboard.heroku.com/new-app\n",
    "    - Nazwa apki jest dodowlna. Ważne by była unikalna. Proponuję wzór: `da-plu-2021-<nazwa>` Gdzie pod nazwą może być imie i nazwiko. nick lub dodowlna inna nazwa\n",
    "    - Wybieramy region `Europe`\n",
    "- wyklikujemy projekt na heroku i podpinamy pod niego diploj\n",
    "    - W zakładce `Deploy` w sekcji `Deployment method` wybieramy opcję `GitHub`\n",
    "    - dodajemy swojego użytkownika z GitHub\n",
    "    - wybieramy repozytorium z aplikacją dla prac domowych\n",
    "    - wybieramy opcję automatycznego deploymentu z naszego głownego brancha (`master`/`main` lub dowolnie jak nazwaliście)\n",
    "    - Za pierwszym razem diplojujemy ręcznie (przycisk `Deploy now` na dole)\n",
    "    - w zakładce `Activity` zobaczymy proces naszego ddeploymentu\n",
    "    - Kiedy status deploymentu uzyska wartość poprawną możemy kliknąć: `Open app`\n",
    "    - podziwiamy jak pięknie i prosto było (jak komuś nie wyszło to debuguje)\n",
    "- od tego momentu Heroku będzie nasługiwać na zadanym repozytorium i jeśli dodamy zmiany do brancha `main` to pipeline wdrożeniowy automatycznie pobierze nowy kod (`git pull origin main`) i uruchomi naszą aplikację w najnowszej wersji."
   ]
  },
  {
   "cell_type": "markdown",
   "metadata": {
    "slideshow": {
     "slide_type": "subslide"
    }
   },
   "source": [
    "# 7 Rozwój aplikacji"
   ]
  },
  {
   "cell_type": "markdown",
   "metadata": {
    "slideshow": {
     "slide_type": "subslide"
    }
   },
   "source": [
    "## 7.1 Zadanie 1"
   ]
  },
  {
   "cell_type": "markdown",
   "metadata": {},
   "source": [
    "Chcielibyśmy, żeby aplikacji odpowiadała `Hello {name}` pod ścieżką `/hello/{name}`"
   ]
  },
  {
   "cell_type": "markdown",
   "metadata": {
    "slideshow": {
     "slide_type": "subslide"
    }
   },
   "source": [
    "### 7.1.1 Testy"
   ]
  },
  {
   "cell_type": "markdown",
   "metadata": {
    "slideshow": {
     "slide_type": "fragment"
    }
   },
   "source": [
    "Zaczniemy od napisania prostego testu"
   ]
  },
  {
   "cell_type": "markdown",
   "metadata": {
    "slideshow": {
     "slide_type": "fragment"
    }
   },
   "source": [
    "```python\n",
    "def test_hello_name():\n",
    "    name = 'Kamila'\n",
    "    response = client.get(f\"/hello/{name}\")\n",
    "    assert response.status_code == 200\n",
    "    assert response.text == f'\"Hello {name}\"'\n",
    "```"
   ]
  },
  {
   "cell_type": "markdown",
   "metadata": {
    "slideshow": {
     "slide_type": "subslide"
    }
   },
   "source": [
    "Istnieje możliwość ulepszenia testów przez parametryzację testu"
   ]
  },
  {
   "cell_type": "markdown",
   "metadata": {
    "slideshow": {
     "slide_type": "fragment"
    }
   },
   "source": [
    "```python\n",
    "import pytest\n",
    "\n",
    "@pytest.mark.parametrize(\"name\", [\"Zenek\", \"Marek\", \"Alojzy Niezdąży\"])\n",
    "def test_hello_name(name):\n",
    "    response = client.get(f\"/hello/{name}\")\n",
    "    assert response.status_code == 200\n",
    "    assert response.text == f'\"Hello {name}\"'\n",
    "```"
   ]
  },
  {
   "cell_type": "markdown",
   "metadata": {
    "slideshow": {
     "slide_type": "subslide"
    }
   },
   "source": [
    "### 7.1.2 Implementacja"
   ]
  },
  {
   "cell_type": "markdown",
   "metadata": {
    "slideshow": {
     "slide_type": "fragment"
    }
   },
   "source": [
    "```python\n",
    "# main.py\n",
    "\n",
    "from fastapi import FastAPI\n",
    "\n",
    "app = FastAPI()\n",
    "\n",
    "@app.get(\"/\")\n",
    "def root_view():\n",
    "    return {\"message\": \"Hello World\"}\n",
    "```"
   ]
  },
  {
   "cell_type": "markdown",
   "metadata": {
    "slideshow": {
     "slide_type": "fragment"
    }
   },
   "source": [
    "```python    \n",
    "@app.get(\"/hello/{name}\")\n",
    "def hello_name_view(name: str):\n",
    "    return f\"Hello {name}\"\n",
    "```"
   ]
  },
  {
   "cell_type": "markdown",
   "metadata": {
    "slideshow": {
     "slide_type": "subslide"
    }
   },
   "source": [
    "## 7.2 Zadanie 2"
   ]
  },
  {
   "cell_type": "markdown",
   "metadata": {},
   "source": [
    "Chcielibyśmy, żeby aplikacji posiadała licznik wejść na stronę pod adresem `/counter`"
   ]
  },
  {
   "cell_type": "markdown",
   "metadata": {
    "slideshow": {
     "slide_type": "subslide"
    }
   },
   "source": [
    "### 7.2.1 Testy"
   ]
  },
  {
   "cell_type": "markdown",
   "metadata": {
    "slideshow": {
     "slide_type": "fragment"
    }
   },
   "source": [
    "Zaczniemy od napisania prostego testu"
   ]
  },
  {
   "cell_type": "markdown",
   "metadata": {
    "slideshow": {
     "slide_type": "fragment"
    }
   },
   "source": [
    "```python\n",
    "def test_counter(name):\n",
    "    response = client.get(f\"/counter\")\n",
    "    assert response.status_code == 200\n",
    "    assert response.text == \"1\"\n",
    "    # 2nd Try\n",
    "    response = client.get(f\"/counter\")\n",
    "    assert response.status_code == 200\n",
    "    assert response.text == \"2\"\n",
    "```"
   ]
  },
  {
   "cell_type": "markdown",
   "metadata": {
    "slideshow": {
     "slide_type": "subslide"
    }
   },
   "source": [
    "### 7.2.2 Implementacja"
   ]
  },
  {
   "cell_type": "markdown",
   "metadata": {
    "slideshow": {
     "slide_type": "fragment"
    }
   },
   "source": [
    "```python\n",
    "# main.py\n",
    "from fastapi import FastAPI\n",
    "\n",
    "app = FastAPI()\n",
    "app.counter = 0\n",
    "```"
   ]
  },
  {
   "cell_type": "markdown",
   "metadata": {
    "slideshow": {
     "slide_type": "fragment"
    }
   },
   "source": [
    "```python\n",
    "@app.get('/counter')\n",
    "def counter():\n",
    "    app.counter += 1\n",
    "    return str(app.counter)\n",
    "```"
   ]
  },
  {
   "cell_type": "markdown",
   "metadata": {
    "slideshow": {
     "slide_type": "subslide"
    }
   },
   "source": [
    "## 7.3 Typowanie"
   ]
  },
  {
   "cell_type": "markdown",
   "metadata": {
    "slideshow": {
     "slide_type": "subslide"
    }
   },
   "source": [
    "### 7.3.1 Typowanie w widokach"
   ]
  },
  {
   "cell_type": "markdown",
   "metadata": {
    "slideshow": {
     "slide_type": "subslide"
    }
   },
   "source": [
    "```python\n",
    "from fastapi import FastAPI\n",
    "\n",
    "from pydantic import BaseModel\n",
    "\n",
    "app = FastAPI()\n",
    "app.counter = 0\n",
    "```"
   ]
  },
  {
   "cell_type": "markdown",
   "metadata": {
    "slideshow": {
     "slide_type": "fragment"
    }
   },
   "source": [
    "```python\n",
    "class HelloResp(BaseModel):\n",
    "    msg: str\n",
    "```"
   ]
  },
  {
   "cell_type": "markdown",
   "metadata": {
    "slideshow": {
     "slide_type": "fragment"
    }
   },
   "source": [
    "```python\n",
    "@app.get(\"/\")\n",
    "def root():\n",
    "    return {\"message\": \"Hello World\"}\n",
    "```"
   ]
  },
  {
   "cell_type": "markdown",
   "metadata": {
    "slideshow": {
     "slide_type": "fragment"
    }
   },
   "source": [
    "```python\n",
    "@app.get('/counter')\n",
    "def counter():\n",
    "    app.counter += 1\n",
    "    return str(app.counter)\n",
    "```"
   ]
  },
  {
   "cell_type": "markdown",
   "metadata": {
    "slideshow": {
     "slide_type": "fragment"
    }
   },
   "source": [
    "```python\n",
    "@app.get(\"/hello/{name}\", response_model=HelloResp)\n",
    "def hello_name_view(name: str):\n",
    "    return HelloResp(msg=f\"Hello {name}\")\n",
    "```"
   ]
  },
  {
   "cell_type": "markdown",
   "metadata": {
    "slideshow": {
     "slide_type": "subslide"
    }
   },
   "source": [
    "## 7.4 Dokumentacja"
   ]
  },
  {
   "cell_type": "markdown",
   "metadata": {},
   "source": [
    "### 7.4.1 Dokumentacja FastApi"
   ]
  },
  {
   "cell_type": "markdown",
   "metadata": {},
   "source": [
    "- oficjalna dokumentacja: https://pydantic-docs.helpmanual.io/\n",
    "- pydantic w fastapi: https://fastapi.tiangolo.com/python-types/#pydantic-models"
   ]
  },
  {
   "cell_type": "markdown",
   "metadata": {},
   "source": [
    "### 7.3.1 Dokumentacja Typowania"
   ]
  },
  {
   "cell_type": "markdown",
   "metadata": {},
   "source": [
    "- wprowadzenie od typów w `FastApi`: https://fastapi.tiangolo.com/python-types/\n",
    "- oficjalna dokumentacja typowania: https://docs.python.org/3/library/typing.html\n",
    "- przewodnik od `RealPython` o sprawdzani typów: https://realpython.com/python-type-checking/"
   ]
  }
 ],
 "metadata": {
  "celltoolbar": "Slideshow",
  "kernelspec": {
   "display_name": "Python 3",
   "language": "python",
   "name": "python3"
  },
  "language_info": {
   "codemirror_mode": {
    "name": "ipython",
    "version": 3
   },
   "file_extension": ".py",
   "mimetype": "text/x-python",
   "name": "python",
   "nbconvert_exporter": "python",
   "pygments_lexer": "ipython3",
   "version": "3.8.2"
  }
 },
 "nbformat": 4,
 "nbformat_minor": 4
}
