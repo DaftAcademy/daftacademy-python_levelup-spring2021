{
 "cells": [
  {
   "cell_type": "markdown",
   "metadata": {
    "slideshow": {
     "slide_type": "slide"
    }
   },
   "source": [
    "<img src=https://raw.githubusercontent.com/daftcode/daftacademy-python_levelup-spring2021/master/background.png>"
   ]
  },
  {
   "cell_type": "markdown",
   "metadata": {
    "slideshow": {
     "slide_type": "slide"
    }
   },
   "source": [
    "![Plan kursu](https://raw.githubusercontent.com/daftcode/daftacademy-python_levelup-spring2021/master/program.png)"
   ]
  },
  {
   "cell_type": "markdown",
   "metadata": {
    "slideshow": {
     "slide_type": "slide"
    },
    "tags": []
   },
   "source": [
    "# A jak Asyncio\n",
    "\n",
    "\n",
    "### Paweł Koszałka\n",
    "### Daft Academy Python level up 2021\n",
    "### \n",
    "### 19.05.2021"
   ]
  },
  {
   "cell_type": "markdown",
   "metadata": {
    "slideshow": {
     "slide_type": "slide"
    },
    "tags": []
   },
   "source": [
    "# Plan wykładu\n",
    "\n",
    "1. Czym jest asyncio?\n",
    "2. Programowanie współbieżne\n",
    "3. Jak działa asyncio?\n",
    "4. Jak używać asyncio?\n",
    "5. Asynchroniczność w sieci.\n",
    "6. Pytania\n",
    "7. Linki"
   ]
  },
  {
   "cell_type": "markdown",
   "metadata": {
    "slideshow": {
     "slide_type": "slide"
    }
   },
   "source": [
    "# 1. Czym jest asyncio?"
   ]
  },
  {
   "cell_type": "markdown",
   "metadata": {},
   "source": [
    "- biblioteką standardową umożliwiająca programowanie asynchroniczne\n",
    "\n",
    "- reużyciem opracowanego konceptu - pętli zdarzeń (eventloop)\n",
    "\n",
    "- ewolucją w świecie pythona\n",
    "\n",
    "- biblioteką pozwalającą na realizacje współbieżności"
   ]
  },
  {
   "cell_type": "markdown",
   "metadata": {
    "slideshow": {
     "slide_type": "slide"
    }
   },
   "source": [
    "# 2. Programowanie współbieżne\n",
    "\n",
    "- wykonuje jedno zadanie na raz, może obsłużyć wiele zadań\n",
    "- przeciwieństwo wykonania sekwencyjnego\n",
    "- gambit współbieżności"
   ]
  },
  {
   "cell_type": "markdown",
   "metadata": {
    "slideshow": {
     "slide_type": "subslide"
    }
   },
   "source": [
    "# 2.1 Wykonanie sekwencyjne programu"
   ]
  },
  {
   "cell_type": "markdown",
   "metadata": {},
   "source": [
    "```python\n",
    "import requests\n",
    "\n",
    "def get_current_temp(city_name):\n",
    "    return requests.get(f\"http://weather.service.com?cityName={city_name}\")\n",
    "\n",
    "warsaw_temp = get_current_temp(\"Warsaw\")\n",
    "radom_temp = get_current_temp(\"Radom\")\n",
    "lublin_temp = get_current_temp(\"Lublin\")\n",
    "```"
   ]
  },
  {
   "cell_type": "code",
   "execution_count": null,
   "metadata": {
    "slideshow": {
     "slide_type": "fragment"
    }
   },
   "outputs": [],
   "source": [
    "<warsaw_temp> ---I/O NET--> RESULT <radom_temp> ---I/O NET--> RESULT <lublin_temp> ---I/O NET--> RESULT"
   ]
  },
  {
   "cell_type": "markdown",
   "metadata": {
    "slideshow": {
     "slide_type": "fragment"
    }
   },
   "source": [
    "- I/O bound task: network, disk\n",
    "- marnotrawstwo zasobu - 1s == 3 miliardy cykli 3 GHZ procesora == tysiące niskopoziomowych operacji == setki potencjalnych operacji w pythonie"
   ]
  },
  {
   "cell_type": "markdown",
   "metadata": {
    "slideshow": {
     "slide_type": "subslide"
    }
   },
   "source": [
    "# 2.2 Wykonanie współbieżne"
   ]
  },
  {
   "cell_type": "code",
   "execution_count": null,
   "metadata": {
    "slideshow": {
     "slide_type": "fragment"
    }
   },
   "outputs": [],
   "source": [
    "<warsaw_temp> ---I/O NET--> RESULT\n",
    "              <radom_temp> ---I/O NET--> RESULT\n",
    "                           <lublin_temp> ---I/O NET--> RESULT"
   ]
  },
  {
   "cell_type": "markdown",
   "metadata": {
    "slideshow": {
     "slide_type": "fragment"
    }
   },
   "source": [
    "- niskopoziomowe - procesy i wątki\n",
    "- wysykopoziomowe - asyncio"
   ]
  },
  {
   "cell_type": "markdown",
   "metadata": {
    "slideshow": {
     "slide_type": "subslide"
    }
   },
   "source": [
    "# 2.3 Procesy\n",
    "\n",
    "- uruchomiony program\n",
    "- system operacyjny przydziela zasoby\n",
    "- posiada co najmniej jeden wątek\n",
    "- obiążenie zasobów"
   ]
  },
  {
   "cell_type": "markdown",
   "metadata": {
    "slideshow": {
     "slide_type": "subslide"
    }
   },
   "source": [
    "# 2.4 Wątki\n",
    "- głowna część wykonawcza programu\n",
    "- współdzieli zasoby z procesem - oprócz CPU\n",
    "- potrzebują synchronizacji: Lock, Semaphore\n",
    "- problematyczne: lock starvation, deadlock, zmiana kontekstu\n",
    "- mniejsze obciążenie zasobów"
   ]
  },
  {
   "cell_type": "markdown",
   "metadata": {
    "slideshow": {
     "slide_type": "subslide"
    }
   },
   "source": [
    "# 2.5 Wątki w języku python\n",
    "\n",
    "- tylko jeden wątek uruchomiony na raz\n",
    "- GIL - lock związany z interpreterem pythona\n",
    "- zwalniany w momencie: wykonania operacji I/O, wykorzystania przydzielonego czasu procesora, wykonania kodu bibliotek C\n"
   ]
  },
  {
   "cell_type": "markdown",
   "metadata": {
    "slideshow": {
     "slide_type": "subslide"
    }
   },
   "source": [
    "# 2.6 sekwencyjne vs współbieżne w pythonie"
   ]
  },
  {
   "cell_type": "markdown",
   "metadata": {
    "slideshow": {
     "slide_type": "subslide"
    }
   },
   "source": [
    "# 2.6.1 Przykład sekwencyjny"
   ]
  },
  {
   "cell_type": "code",
   "execution_count": 1,
   "metadata": {},
   "outputs": [
    {
     "name": "stdout",
     "output_type": "stream",
     "text": [
      "Received [200, 200, 200, 200] in 11.395669221878052\n"
     ]
    }
   ],
   "source": [
    "import time\n",
    "import httpx\n",
    "\n",
    "def call_httpbin(delay):\n",
    "    resp = httpx.get(f\"http://httpbin.org/delay/{delay}\")\n",
    "    return resp.status_code\n",
    "\n",
    "def main():\n",
    "    start_time = time.time()\n",
    "    responses = [\n",
    "        call_httpbin(1),\n",
    "        call_httpbin(2),\n",
    "        call_httpbin(3),\n",
    "        call_httpbin(4),\n",
    "    ]\n",
    "    end_time = time.time() - start_time\n",
    "    print(f\"Received {responses} in {end_time}\")\n",
    "\n",
    "main()"
   ]
  },
  {
   "cell_type": "markdown",
   "metadata": {
    "slideshow": {
     "slide_type": "subslide"
    }
   },
   "source": [
    "# 2.6.2 Przykład współbieżny z wątkami"
   ]
  },
  {
   "cell_type": "code",
   "execution_count": 6,
   "metadata": {
    "slideshow": {
     "slide_type": "notes"
    }
   },
   "outputs": [],
   "source": [
    "import time\n",
    "import requests\n",
    "import threading"
   ]
  },
  {
   "cell_type": "code",
   "execution_count": 8,
   "metadata": {},
   "outputs": [
    {
     "name": "stdout",
     "output_type": "stream",
     "text": [
      "Received [200, 200, 200, 200] in 4.236565113067627\n"
     ]
    }
   ],
   "source": [
    "responses_lock = threading.Lock()\n",
    "\n",
    "def call_httpbin(responses, delay):\n",
    "    resp = requests.get(f\"http://httpbin.org/delay/{delay}\")\n",
    "    responses_lock.acquire()\n",
    "    responses.append(resp.status_code)\n",
    "    responses_lock.release()\n",
    "\n",
    "def main():\n",
    "    start_time, responses, call_threads = time.time(), [], []\n",
    "    for i in range(1, 5):\n",
    "        call_thread = threading.Thread(target=call_httpbin, args=(responses, i))\n",
    "        call_threads.append(call_thread)\n",
    "        call_thread.start()\n",
    "\n",
    "    for element in call_threads:\n",
    "        element.join()\n",
    "\n",
    "    end_time = time.time() - start_time\n",
    "    print(f\"Received {responses} in {end_time}\")\n",
    "\n",
    "main()"
   ]
  },
  {
   "cell_type": "markdown",
   "metadata": {
    "slideshow": {
     "slide_type": "slide"
    }
   },
   "source": [
    "# 3. Jak działa asyncio\n",
    "\n",
    "- eventloop uruchomiony w głownym wątku\n",
    "- operuje na couroutines\n",
    "- potrafi zatrzymać i wznawiać prace nad coroutines\n",
    "- kernel I/O async\n",
    "- reaktywne i proaktywne\n",
    "- sychnroniczne biblioteki psują działanie"
   ]
  },
  {
   "cell_type": "markdown",
   "metadata": {
    "slideshow": {
     "slide_type": "subslide"
    }
   },
   "source": [
    "# 3.1 coroutine (współprogram)\n",
    "\n",
    "- specjalny rodzaj generatora\n",
    "- generatory są funkcjami które tworzą swoje wartości w trakcie iteracji\n",
    "- wykorzystywane wlaściwości: wstrzymywanie i wznawianie działania"
   ]
  },
  {
   "cell_type": "markdown",
   "metadata": {
    "slideshow": {
     "slide_type": "subslide"
    }
   },
   "source": [
    "# 3.1.1 generatory - metoda next"
   ]
  },
  {
   "cell_type": "code",
   "execution_count": 3,
   "metadata": {},
   "outputs": [
    {
     "name": "stdout",
     "output_type": "stream",
     "text": [
      "1\n",
      "2\n",
      "3\n"
     ]
    }
   ],
   "source": [
    "def count_to(max_val):\n",
    "    counter = 1\n",
    "    while counter <= max_val:\n",
    "        yield counter\n",
    "        counter += 1\n",
    "\n",
    "count_to_three = count_to(3)\n",
    "print(next(count_to_three))\n",
    "print(next(count_to_three))\n",
    "print(next(count_to_three))"
   ]
  },
  {
   "cell_type": "markdown",
   "metadata": {
    "slideshow": {
     "slide_type": "subslide"
    }
   },
   "source": [
    "# 3.1.2 generatory - metoda send"
   ]
  },
  {
   "cell_type": "code",
   "execution_count": 5,
   "metadata": {},
   "outputs": [
    {
     "name": "stdout",
     "output_type": "stream",
     "text": [
      "next method: \n",
      "1\n",
      "next method: \n",
      "3\n"
     ]
    }
   ],
   "source": [
    "def count_to(max_val):\n",
    "    counter = 1\n",
    "    while counter <= max_val:\n",
    "        i = (yield counter)\n",
    "        if i is not None:\n",
    "            counter = i\n",
    "        else:\n",
    "            counter += 1\n",
    "\n",
    "count_to_three = count_to(3)\n",
    "print(\"next method: \")\n",
    "print(next(count_to_three))\n",
    "count_to_three.send(2)\n",
    "print(\"next method: \")\n",
    "print(next(count_to_three))"
   ]
  },
  {
   "cell_type": "markdown",
   "metadata": {
    "slideshow": {
     "slide_type": "subslide"
    }
   },
   "source": [
    "# 3.1.3 generatory - zagłębianie"
   ]
  },
  {
   "cell_type": "code",
   "execution_count": 14,
   "metadata": {},
   "outputs": [
    {
     "name": "stdout",
     "output_type": "stream",
     "text": [
      "Using for loop: \n",
      "1\n",
      "2\n",
      "3\n",
      "4\n"
     ]
    }
   ],
   "source": [
    "def another_count():\n",
    "    yield 4\n",
    "\n",
    "def count_to(max_val):\n",
    "    counter = 1\n",
    "    while counter <= max_val:\n",
    "        yield counter\n",
    "        counter += 1\n",
    "    yield from another_count()\n",
    "\n",
    "print(\"Using for loop: \")\n",
    "count_to_three = count_to(3)\n",
    "for count in count_to_three:\n",
    "    print(count)"
   ]
  },
  {
   "cell_type": "markdown",
   "metadata": {
    "slideshow": {
     "slide_type": "subslide"
    }
   },
   "source": [
    "# 3.2 Task\n",
    "\n",
    "- tworzony automatycznie przez pętle\n",
    "- recznie przez create_task\n",
    "- interfejs do zarządzania: status, wyniki, obsługa"
   ]
  },
  {
   "cell_type": "markdown",
   "metadata": {
    "slideshow": {
     "slide_type": "subslide"
    }
   },
   "source": [
    "# 3.3 async def"
   ]
  },
  {
   "cell_type": "code",
   "execution_count": null,
   "metadata": {},
   "outputs": [],
   "source": [
    "# Python 3.5+\n",
    "async def coro_name(args):\n",
    "    # your code here\n",
    "\n",
    "# Python 3.4\n",
    "@asyncio.coroutine\n",
    "def coro_name(args):\n",
    "    # your code here"
   ]
  },
  {
   "cell_type": "markdown",
   "metadata": {
    "slideshow": {
     "slide_type": "subslide"
    }
   },
   "source": [
    "# 3.4 await"
   ]
  },
  {
   "cell_type": "code",
   "execution_count": null,
   "metadata": {},
   "outputs": [],
   "source": [
    "# Python 3.5+\n",
    "async def coro_name(args):\n",
    "    # your code here\n",
    "    await another_coro()\n",
    "\n",
    "# Python 3.4\n",
    "@asyncio.coroutine\n",
    "def coro_name(args):\n",
    "    yield from another_coro()"
   ]
  },
  {
   "cell_type": "markdown",
   "metadata": {
    "slideshow": {
     "slide_type": "slide"
    }
   },
   "source": [
    "# 4. Jak używać asyncio?"
   ]
  },
  {
   "cell_type": "markdown",
   "metadata": {
    "slideshow": {
     "slide_type": "subslide"
    }
   },
   "source": [
    "# 4.1 Uruchomienie korutyny"
   ]
  },
  {
   "cell_type": "code",
   "execution_count": null,
   "metadata": {
    "slideshow": {
     "slide_type": "notes"
    }
   },
   "outputs": [],
   "source": [
    "import datetime\n",
    "import asyncio"
   ]
  },
  {
   "cell_type": "code",
   "execution_count": 18,
   "metadata": {},
   "outputs": [
    {
     "name": "stdout",
     "output_type": "stream",
     "text": [
      "2021-05-19 10:43:57.400390: Daft\n",
      "2021-05-19 10:43:59.401823: Academy\n"
     ]
    }
   ],
   "source": [
    "async def print_lab():\n",
    "    print(f\"{datetime.datetime.now()}: Daft\")\n",
    "    await asyncio.sleep(2)\n",
    "    print(f\"{datetime.datetime.now()}: Academy\")\n",
    "\n",
    "async def main():\n",
    "    await print_lab()\n",
    "\n",
    "# if __name__ == \"__main__\":\n",
    "#     asyncio.run(main())\n",
    "\n",
    "await main()"
   ]
  },
  {
   "cell_type": "markdown",
   "metadata": {
    "slideshow": {
     "slide_type": "subslide"
    }
   },
   "source": [
    "# 4.2 Uruchomienie współbieżne dwóch korutyn"
   ]
  },
  {
   "cell_type": "code",
   "execution_count": null,
   "metadata": {
    "slideshow": {
     "slide_type": "notes"
    }
   },
   "outputs": [],
   "source": [
    "import datetime\n",
    "import asyncio"
   ]
  },
  {
   "cell_type": "code",
   "execution_count": 22,
   "metadata": {},
   "outputs": [
    {
     "name": "stdout",
     "output_type": "stream",
     "text": [
      "2021-05-19 10:45:47.933421 1: Daft\n",
      "2021-05-19 10:45:49.936396 1: Academy\n",
      "2021-05-19 10:45:49.936934 2: Daft\n",
      "2021-05-19 10:45:51.939775 2: Academy\n"
     ]
    }
   ],
   "source": [
    "async def print_lab(coro_id):\n",
    "    print(f\"{datetime.datetime.now()} {coro_id}: Daft\")\n",
    "    await asyncio.sleep(2)\n",
    "    print(f\"{datetime.datetime.now()} {coro_id}: Academy\")\n",
    "\n",
    "async def main():\n",
    "    await print_lab(\"1\")\n",
    "    await print_lab(\"2\")\n",
    "\n",
    "await main()"
   ]
  },
  {
   "cell_type": "markdown",
   "metadata": {
    "slideshow": {
     "slide_type": "subslide"
    }
   },
   "source": [
    "# 4.2.1 Uruchomienie współbieżnie dwóch korutyn - wersja poprawna"
   ]
  },
  {
   "cell_type": "code",
   "execution_count": null,
   "metadata": {
    "slideshow": {
     "slide_type": "notes"
    }
   },
   "outputs": [],
   "source": [
    "import datetime\n",
    "import asyncio"
   ]
  },
  {
   "cell_type": "code",
   "execution_count": 14,
   "metadata": {},
   "outputs": [
    {
     "name": "stdout",
     "output_type": "stream",
     "text": [
      "2021-05-19 10:29:41.775482 1: Daft\n",
      "2021-05-19 10:29:41.776381 2: Daft\n",
      "2021-05-19 10:29:43.778645 1: Academy\n",
      "2021-05-19 10:29:43.778751 2: Academy\n"
     ]
    }
   ],
   "source": [
    "async def print_lab(coro_id):\n",
    "    print(f\"{datetime.datetime.now()} {coro_id}: Daft\")\n",
    "    await asyncio.sleep(2)\n",
    "    print(f\"{datetime.datetime.now()} {coro_id}: Academy\")\n",
    "\n",
    "async def main():\n",
    "    await asyncio.gather(print_lab(\"1\"), print_lab(\"2\"))"
   ]
  },
  {
   "cell_type": "markdown",
   "metadata": {
    "slideshow": {
     "slide_type": "subslide"
    }
   },
   "source": [
    "# 4.3 Obiekt Task"
   ]
  },
  {
   "cell_type": "code",
   "execution_count": null,
   "metadata": {
    "slideshow": {
     "slide_type": "notes"
    }
   },
   "outputs": [],
   "source": [
    "import datetime\n",
    "import asyncio"
   ]
  },
  {
   "cell_type": "code",
   "execution_count": 23,
   "metadata": {},
   "outputs": [
    {
     "name": "stdout",
     "output_type": "stream",
     "text": [
      "2021-05-19 10:47:15.015959 Started main\n",
      "2021-05-19 10:47:15.016366 Created tasks\n",
      "2021-05-19 10:47:15.016622 1: Daft\n",
      "2021-05-19 10:47:15.016724 2: Daft\n",
      "2021-05-19 10:47:17.019757 1: Academy\n",
      "2021-05-19 10:47:17.020074 2: Academy\n"
     ]
    }
   ],
   "source": [
    "async def print_lab(coro_id):\n",
    "    print(f\"{datetime.datetime.now()} {coro_id}: Daft\")\n",
    "    await asyncio.sleep(2)\n",
    "    print(f\"{datetime.datetime.now()} {coro_id}: Academy\")\n",
    "\n",
    "async def main():\n",
    "    print(f\"{datetime.datetime.now()} Started main\")\n",
    "    task_1 = asyncio.create_task(print_lab(\"1\"))\n",
    "    task_2 = asyncio.create_task(print_lab(\"2\"))\n",
    "    print(f\"{datetime.datetime.now()} Created tasks\")\n",
    "\n",
    "await main()"
   ]
  },
  {
   "cell_type": "markdown",
   "metadata": {
    "slideshow": {
     "slide_type": "subslide"
    }
   },
   "source": [
    "# 4.3.1 Obiekt Task - zatrzymanie"
   ]
  },
  {
   "cell_type": "code",
   "execution_count": 6,
   "metadata": {
    "slideshow": {
     "slide_type": "notes"
    }
   },
   "outputs": [],
   "source": [
    "import datetime\n",
    "import asyncio\n",
    "import threading\n",
    "import requests"
   ]
  },
  {
   "cell_type": "code",
   "execution_count": 26,
   "metadata": {},
   "outputs": [
    {
     "name": "stdout",
     "output_type": "stream",
     "text": [
      "2021-05-19 10:48:11.801659 1: Daft\n",
      "2021-05-19 10:48:15.803834: Cancel task_1\n",
      "2021-05-19 10:48:15.804240: Canceled task_1\n",
      "2021-05-19 10:48:15.804910 1: Doing cleanup\n"
     ]
    }
   ],
   "source": [
    "async def print_lab(coro_id):\n",
    "    print(f\"{datetime.datetime.now()} {coro_id}: Daft\")\n",
    "    try:\n",
    "        await asyncio.sleep(10)\n",
    "    except asyncio.CancelledError:\n",
    "        print(f\"{datetime.datetime.now()} {coro_id}: Doing cleanup\")\n",
    "    else:\n",
    "        print(f\"{datetime.datetime.now()} {coro_id}: Academy\")\n",
    "\n",
    "async def main():\n",
    "    task_1 = asyncio.create_task(print_lab(\"1\"))\n",
    "    await asyncio.sleep(4)\n",
    "    print(f\"{datetime.datetime.now()}: Cancel task_1\")\n",
    "    task_1.cancel()\n",
    "    print(f\"{datetime.datetime.now()}: Canceled task_1\")\n",
    "\n",
    "await main()"
   ]
  },
  {
   "cell_type": "markdown",
   "metadata": {
    "slideshow": {
     "slide_type": "subslide"
    }
   },
   "source": [
    "# 4.4 wykonanie sekwencyjne vs asyncio vs wątki"
   ]
  },
  {
   "cell_type": "code",
   "execution_count": 29,
   "metadata": {},
   "outputs": [
    {
     "name": "stdout",
     "output_type": "stream",
     "text": [
      "Received [200, 200, 200, 200] in 11.031611919403076\n"
     ]
    }
   ],
   "source": [
    "import time\n",
    "import httpx\n",
    "\n",
    "def call_httpbin(delay):\n",
    "    resp = httpx.get(f\"http://httpbin.org/delay/{delay}\")\n",
    "    return resp.status_code\n",
    "\n",
    "def main():\n",
    "    start_time = time.time()\n",
    "    responses = [call_httpbin(1), call_httpbin(2), call_httpbin(3), call_httpbin(4)]\n",
    "    end_time = time.time() - start_time\n",
    "    print(f\"Received {responses} in {end_time}\")\n",
    "\n",
    "main()"
   ]
  },
  {
   "cell_type": "code",
   "execution_count": 31,
   "metadata": {
    "slideshow": {
     "slide_type": "subslide"
    }
   },
   "outputs": [
    {
     "name": "stdout",
     "output_type": "stream",
     "text": [
      "Received [200, 200, 200, 200] in 4.372626066207886\n"
     ]
    }
   ],
   "source": [
    "async def call_httpbin(delay):\n",
    "    async with httpx.AsyncClient() as client:\n",
    "        response = await client.get(f\"http://httpbin.org/delay/{delay}\")\n",
    "        return response.status_code\n",
    "\n",
    "\n",
    "async def main():\n",
    "    start_time = time.time()\n",
    "    responses = await asyncio.gather(call_httpbin(1), call_httpbin(2), call_httpbin(3), call_httpbin(4))\n",
    "    end_time = time.time() - start_time\n",
    "    print(f\"Received {responses} in {end_time}\")\n",
    "\n",
    "\n",
    "await main()"
   ]
  },
  {
   "cell_type": "code",
   "execution_count": 7,
   "metadata": {},
   "outputs": [
    {
     "name": "stdout",
     "output_type": "stream",
     "text": [
      "Received [200, 200, 200, 200] in 4.314588785171509\n"
     ]
    }
   ],
   "source": [
    "responses_lock = threading.Lock()\n",
    "\n",
    "def call_httpbin(responses, delay):\n",
    "    resp = requests.get(f\"http://httpbin.org/delay/{delay}\")\n",
    "    responses_lock.acquire()\n",
    "    responses.append(resp.status_code)\n",
    "    responses_lock.release()\n",
    "\n",
    "def main():\n",
    "    start_time, responses, call_threads = time.time(), [], []\n",
    "    for i in range(1, 5):\n",
    "        call_thread = threading.Thread(target=call_httpbin, args=(responses, i))\n",
    "        call_threads.append(call_thread)\n",
    "        call_thread.start()\n",
    "\n",
    "    for element in call_threads:\n",
    "        element.join()\n",
    "\n",
    "    end_time = time.time() - start_time\n",
    "    print(f\"Received {responses} in {end_time}\")\n",
    "\n",
    "main()"
   ]
  },
  {
   "cell_type": "markdown",
   "metadata": {
    "slideshow": {
     "slide_type": "subslide"
    }
   },
   "source": [
    "# 4.5 Wątki vs asyncio\n",
    "\n",
    "- pre-emptive multitasking\n",
    "- cooperative multitasking"
   ]
  },
  {
   "cell_type": "markdown",
   "metadata": {
    "slideshow": {
     "slide_type": "slide"
    }
   },
   "source": [
    "# 5. Asynchroniczność w sieci"
   ]
  },
  {
   "cell_type": "markdown",
   "metadata": {},
   "source": [
    "```python\n",
    "\n",
    "def validate_email(email):\n",
    "    # validation logic, regexp, domain checking, blacklisting\n",
    "    # raises InvalidEmail when email is invalid\n",
    "\n",
    "@app.post(\"/validate_email\")\n",
    "def check_email(email: str):\n",
    "    try:\n",
    "        validate_email(email)\n",
    "        User.objects.get(email=email) \n",
    "    except (InvalidEmail, User.DoesNotExist):\n",
    "        return json({\"valid\": True})\n",
    "\n",
    "    \n",
    "@app.post(\"/async_validate_email\")\n",
    "async def check_email(email: str):\n",
    "    try:\n",
    "        validate_email(email)\n",
    "        await User.objects.get(email=email) \n",
    "    except (InvalidEmail, User.DoesNotExist):\n",
    "        return json({\"valid\": True})\n",
    "\n",
    "```"
   ]
  },
  {
   "cell_type": "markdown",
   "metadata": {
    "slideshow": {
     "slide_type": "slide"
    }
   },
   "source": [
    "# 6. Pytania?"
   ]
  },
  {
   "cell_type": "markdown",
   "metadata": {
    "slideshow": {
     "slide_type": "slide"
    }
   },
   "source": [
    "# 7. Linki"
   ]
  },
  {
   "cell_type": "markdown",
   "metadata": {},
   "source": [
    "- https://docs.python.org/3/library/asyncio.html"
   ]
  },
  {
   "cell_type": "markdown",
   "metadata": {},
   "source": [
    "- https://realpython.com/python-concurrency/"
   ]
  },
  {
   "cell_type": "markdown",
   "metadata": {},
   "source": [
    "- https://realpython.com/async-io-python/#the-asyncio-package-and-asyncawait"
   ]
  },
  {
   "cell_type": "markdown",
   "metadata": {},
   "source": [
    "- https://www.youtube.com/watch?v=Xbl7XjFYsN4&list=PLhNSoGM2ik6SIkVGXWBwerucXjgP1rHmB"
   ]
  }
 ],
 "metadata": {
  "celltoolbar": "Slideshow",
  "kernelspec": {
   "display_name": "Python 3",
   "language": "python",
   "name": "python3"
  },
  "language_info": {
   "codemirror_mode": {
    "name": "ipython",
    "version": 3
   },
   "file_extension": ".py",
   "mimetype": "text/x-python",
   "name": "python",
   "nbconvert_exporter": "python",
   "pygments_lexer": "ipython3",
   "version": "3.8.5"
  },
  "toc-showcode": false
 },
 "nbformat": 4,
 "nbformat_minor": 4
}
